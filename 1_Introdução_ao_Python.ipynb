{
 "cells": [
  {
   "cell_type": "markdown",
   "metadata": {
    "id": "u7RVOHksfU3L"
   },
   "source": [
    "# Introdução ao Python\n",
    "\n",
    "Autor: Natanael Moura Junior (natmourajr@lps.ufrj.br)\n",
    "\n",
    "LPS - Laboratório de Processamento de Sinais <br>\n",
    "CIAA - Centro de Instrução Almirante Alexandrino <br>\n",
    "\n",
    "<img align=\"center\" width=\"400\" src=\"https://github.com/natmourajr/import_logos/blob/16a8e62184f4a494743d2c9f2a6be9b2f0db67d0/logo_lps.jpg?raw=1\">\n",
    "\n",
    "<img align=\"center\" width=\"200\" src=\"https://github.com/natmourajr/data/blob/85e02f4e405bdb3c3d8cd9ea413c7329de8f3712/ciaa.png?raw=1\">\n",
    "\n"
   ]
  },
  {
   "cell_type": "markdown",
   "metadata": {
    "id": "ximAQcJlfU3M"
   },
   "source": [
    "# Objetivos\n",
    "1 - Iniciar os usuários em python <br>\n",
    "2 - Mostrar exemplos <br>\n",
    "3 - Ser referência para futuras dúvidas<br>\n",
    "\n"
   ]
  },
  {
   "cell_type": "markdown",
   "metadata": {
    "id": "mGF0lySvtBZP"
   },
   "source": [
    "# Comando ```help```"
   ]
  },
  {
   "cell_type": "markdown",
   "metadata": {
    "id": "WhzlyjpPFhEX"
   },
   "source": [
    "Python tem sido uma das linguagens de programação mais utilizadas em todo o mundo, por isso, a sua documentação tem sido farta na internet, bem como o seu suporte de desenvolvedores. Ainda assim, um dos comandos mais úteis durante o desenvolvimento é o help\n",
    "\n",
    "```python\n",
    "help(func)\n",
    "```\n",
    "\n"
   ]
  },
  {
   "cell_type": "code",
   "execution_count": 2,
   "metadata": {
    "colab": {
     "base_uri": "https://localhost:8080/"
    },
    "id": "hsP4ZWKafU3N",
    "outputId": "1e52c1d1-8ac7-407a-e0ca-abf8f4021c46"
   },
   "outputs": [
    {
     "name": "stdout",
     "output_type": "stream",
     "text": [
      "Help on built-in function print in module builtins:\n",
      "\n",
      "print(*args, sep=' ', end='\\n', file=None, flush=False)\n",
      "    Prints the values to a stream, or to sys.stdout by default.\n",
      "    \n",
      "    sep\n",
      "      string inserted between values, default a space.\n",
      "    end\n",
      "      string appended after the last value, default a newline.\n",
      "    file\n",
      "      a file-like object (stream); defaults to the current sys.stdout.\n",
      "    flush\n",
      "      whether to forcibly flush the stream.\n",
      "\n"
     ]
    }
   ],
   "source": [
    "help(print)"
   ]
  },
  {
   "cell_type": "markdown",
   "metadata": {
    "id": "NLPxAruzDsGx"
   },
   "source": [
    "O que é uma *built-in function*?<br>\n",
    "O interpretador do Python possui várias funções e tipos incorporados que sempre estão disponíveis. A seguir listamos todas as funções em ordem alfabética.\n",
    "\n",
    "|               |             | Built-in Functions |              |                |\n",
    "|---------------|-------------|:------------------:|--------------|----------------|\n",
    "| abs()         | delattr()   | hash()             | memoryview() | set()          |\n",
    "| all()         | dict()      | help()             | min()        | setattr()      |\n",
    "| any()         | dir()       | hex()              | next()       | slice()        |\n",
    "| ascii()       | divmod()    | id()               | object()     | sorted()       |\n",
    "| bin()         | enumerate() | input()            | oct()        | staticmethod() |\n",
    "| bool()        | eval()      | int()              | open()       | str()          |\n",
    "| breakpoint()  | exec()      | isinstance()       | ord()        | sum()          |\n",
    "| bytearray()   | filter()    | issubclass()       | pow()        | super()        |\n",
    "| bytes()       | float()     | iter()             | print()      | tuple()        |\n",
    "| callable()    | format()    | len()              | property()   | type()         |\n",
    "| chr()         | frozenset() | list()             | range()      | vars()         |\n",
    "| classmethod() | getattr()   | locals()           | repr()       | zip()          |\n",
    "| compile()     | globals()   | map()              | reversed()   | \\__import__()   |\n",
    "| complex()     | hasattr()   | max()              | round()      |                |\n"
   ]
  },
  {
   "cell_type": "markdown",
   "metadata": {
    "id": "mfM_YZ3kGCxN"
   },
   "source": [
    "Uma outra maneira de se visualizar os comandados e a sua documentação é com o caracter ```?```\n",
    "\n",
    "```python\n",
    "func?\n",
    "```"
   ]
  },
  {
   "cell_type": "code",
   "execution_count": 6,
   "metadata": {
    "id": "vK58NKWfFY0I"
   },
   "outputs": [
    {
     "data": {
      "text/plain": [
       "\u001b[31mSignature:\u001b[39m print(*args, sep=\u001b[33m' '\u001b[39m, end=\u001b[33m'\\n'\u001b[39m, file=\u001b[38;5;28;01mNone\u001b[39;00m, flush=\u001b[38;5;28;01mFalse\u001b[39;00m)\n",
       "\u001b[31mDocstring:\u001b[39m\n",
       "Prints the values to a stream, or to sys.stdout by default.\n",
       "\n",
       "sep\n",
       "  string inserted between values, default a space.\n",
       "end\n",
       "  string appended after the last value, default a newline.\n",
       "file\n",
       "  a file-like object (stream); defaults to the current sys.stdout.\n",
       "flush\n",
       "  whether to forcibly flush the stream.\n",
       "\u001b[31mType:\u001b[39m      builtin_function_or_method"
      ]
     },
     "metadata": {},
     "output_type": "display_data"
    }
   ],
   "source": [
    "print?"
   ]
  },
  {
   "cell_type": "markdown",
   "metadata": {
    "id": "kTG39ug4Gg19"
   },
   "source": [
    "Caso você queira acessar diretamente o código-fonte de uma determinada função, basta que você adicione ao lado da mesma duas vezes o caracter ```??```\n",
    "\n",
    " ```python\n",
    " func??\n",
    " ```"
   ]
  },
  {
   "cell_type": "code",
   "execution_count": 8,
   "metadata": {
    "id": "cGWRgh6SGWFq"
   },
   "outputs": [],
   "source": [
    "a = 3\n",
    "def nome_funcao(a,b):\n",
    "    '''\n",
    "        Documentação aqui\n",
    "        Olhe aqui!\n",
    "    '''\n",
    "    return np.abs(a+b)\n"
   ]
  },
  {
   "cell_type": "code",
   "execution_count": 6,
   "metadata": {},
   "outputs": [
    {
     "name": "stdout",
     "output_type": "stream",
     "text": [
      "1\n",
      "3\n"
     ]
    }
   ],
   "source": [
    "import numpy as np\n",
    "print(np.abs(nome_funcao(a=-2,b=1)))\n",
    "print(a)"
   ]
  },
  {
   "cell_type": "code",
   "execution_count": 10,
   "metadata": {},
   "outputs": [
    {
     "name": "stdout",
     "output_type": "stream",
     "text": [
      "Help on function nome_funcao in module __main__:\n",
      "\n",
      "nome_funcao(a, b)\n",
      "    Documentação aqui\n",
      "    Olhe aqui!\n",
      "\n"
     ]
    }
   ],
   "source": [
    "help(nome_funcao)"
   ]
  },
  {
   "cell_type": "code",
   "execution_count": 26,
   "metadata": {},
   "outputs": [
    {
     "data": {
      "text/plain": [
       "\u001b[31mSignature:\u001b[39m nome_funcao(a, b)\n",
       "\u001b[31mSource:\u001b[39m   \n",
       "\u001b[38;5;28;01mdef\u001b[39;00m nome_funcao(a,b):\n",
       "    \u001b[33m'''\u001b[39m\n",
       "\u001b[33m        Documentação aqui\u001b[39m\n",
       "\u001b[33m        Olhe aqui!\u001b[39m\n",
       "\u001b[33m    '''\u001b[39m\n",
       "    \u001b[38;5;28;01mreturn\u001b[39;00m a+b\n",
       "\u001b[31mFile:\u001b[39m      /tmp/ipykernel_33/3602754530.py\n",
       "\u001b[31mType:\u001b[39m      function"
      ]
     },
     "metadata": {},
     "output_type": "display_data"
    }
   ],
   "source": [
    "nome_funcao??"
   ]
  },
  {
   "cell_type": "code",
   "execution_count": 32,
   "metadata": {},
   "outputs": [
    {
     "name": "stdout",
     "output_type": "stream",
     "text": [
      "Help on ufunc:\n",
      "\n",
      "absolute = <ufunc 'absolute'>\n",
      "    absolute(x, /, out=None, *, where=True, casting='same_kind', order='K', dtype=None, subok=True[, signature, extobj])\n",
      "    \n",
      "    Calculate the absolute value element-wise.\n",
      "    \n",
      "    ``np.abs`` is a shorthand for this function.\n",
      "    \n",
      "    Parameters\n",
      "    ----------\n",
      "    x : array_like\n",
      "        Input array.\n",
      "    out : ndarray, None, or tuple of ndarray and None, optional\n",
      "        A location into which the result is stored. If provided, it must have\n",
      "        a shape that the inputs broadcast to. If not provided or None,\n",
      "        a freshly-allocated array is returned. A tuple (possible only as a\n",
      "        keyword argument) must have length equal to the number of outputs.\n",
      "    where : array_like, optional\n",
      "        This condition is broadcast over the input. At locations where the\n",
      "        condition is True, the `out` array will be set to the ufunc result.\n",
      "        Elsewhere, the `out` array will retain its original value.\n",
      "        Note that if an uninitialized `out` array is created via the default\n",
      "        ``out=None``, locations within it where the condition is False will\n",
      "        remain uninitialized.\n",
      "    **kwargs\n",
      "        For other keyword-only arguments, see the\n",
      "        :ref:`ufunc docs <ufuncs.kwargs>`.\n",
      "    \n",
      "    Returns\n",
      "    -------\n",
      "    absolute : ndarray\n",
      "        An ndarray containing the absolute value of\n",
      "        each element in `x`.  For complex input, ``a + ib``, the\n",
      "        absolute value is :math:`\\sqrt{ a^2 + b^2 }`.\n",
      "        This is a scalar if `x` is a scalar.\n",
      "    \n",
      "    Examples\n",
      "    --------\n",
      "    >>> x = np.array([-1.2, 1.2])\n",
      "    >>> np.absolute(x)\n",
      "    array([ 1.2,  1.2])\n",
      "    >>> np.absolute(1.2 + 1j)\n",
      "    1.5620499351813308\n",
      "    \n",
      "    Plot the function over ``[-10, 10]``:\n",
      "    \n",
      "    >>> import matplotlib.pyplot as plt\n",
      "    \n",
      "    >>> x = np.linspace(start=-10, stop=10, num=101)\n",
      "    >>> plt.plot(x, np.absolute(x))\n",
      "    >>> plt.show()\n",
      "    \n",
      "    Plot the function over the complex plane:\n",
      "    \n",
      "    >>> xx = x + 1j * x[:, np.newaxis]\n",
      "    >>> plt.imshow(np.abs(xx), extent=[-10, 10, -10, 10], cmap='gray')\n",
      "    >>> plt.show()\n",
      "    \n",
      "    The `abs` function can be used as a shorthand for ``np.absolute`` on\n",
      "    ndarrays.\n",
      "    \n",
      "    >>> x = np.array([-1.2, 1.2])\n",
      "    >>> abs(x)\n",
      "    array([1.2, 1.2])\n",
      "\n"
     ]
    }
   ],
   "source": [
    "import numpy as np\n",
    "help(np.abs)"
   ]
  },
  {
   "cell_type": "code",
   "execution_count": 15,
   "metadata": {},
   "outputs": [
    {
     "name": "stdout",
     "output_type": "stream",
     "text": [
      "Help on ufunc:\n",
      "\n",
      "absolute = <ufunc 'absolute'>\n",
      "    absolute(x, /, out=None, *, where=True, casting='same_kind', order='K', dtype=None, subok=True[, signature, extobj])\n",
      "    \n",
      "    Calculate the absolute value element-wise.\n",
      "    \n",
      "    ``np.abs`` is a shorthand for this function.\n",
      "    \n",
      "    Parameters\n",
      "    ----------\n",
      "    x : array_like\n",
      "        Input array.\n",
      "    out : ndarray, None, or tuple of ndarray and None, optional\n",
      "        A location into which the result is stored. If provided, it must have\n",
      "        a shape that the inputs broadcast to. If not provided or None,\n",
      "        a freshly-allocated array is returned. A tuple (possible only as a\n",
      "        keyword argument) must have length equal to the number of outputs.\n",
      "    where : array_like, optional\n",
      "        This condition is broadcast over the input. At locations where the\n",
      "        condition is True, the `out` array will be set to the ufunc result.\n",
      "        Elsewhere, the `out` array will retain its original value.\n",
      "        Note that if an uninitialized `out` array is created via the default\n",
      "        ``out=None``, locations within it where the condition is False will\n",
      "        remain uninitialized.\n",
      "    **kwargs\n",
      "        For other keyword-only arguments, see the\n",
      "        :ref:`ufunc docs <ufuncs.kwargs>`.\n",
      "    \n",
      "    Returns\n",
      "    -------\n",
      "    absolute : ndarray\n",
      "        An ndarray containing the absolute value of\n",
      "        each element in `x`.  For complex input, ``a + ib``, the\n",
      "        absolute value is :math:`\\sqrt{ a^2 + b^2 }`.\n",
      "        This is a scalar if `x` is a scalar.\n",
      "    \n",
      "    Examples\n",
      "    --------\n",
      "    >>> x = np.array([-1.2, 1.2])\n",
      "    >>> np.absolute(x)\n",
      "    array([ 1.2,  1.2])\n",
      "    >>> np.absolute(1.2 + 1j)\n",
      "    1.5620499351813308\n",
      "    \n",
      "    Plot the function over ``[-10, 10]``:\n",
      "    \n",
      "    >>> import matplotlib.pyplot as plt\n",
      "    \n",
      "    >>> x = np.linspace(start=-10, stop=10, num=101)\n",
      "    >>> plt.plot(x, np.absolute(x))\n",
      "    >>> plt.show()\n",
      "    \n",
      "    Plot the function over the complex plane:\n",
      "    \n",
      "    >>> xx = x + 1j * x[:, np.newaxis]\n",
      "    >>> plt.imshow(np.abs(xx), extent=[-10, 10, -10, 10], cmap='gray')\n",
      "    >>> plt.show()\n",
      "    \n",
      "    The `abs` function can be used as a shorthand for ``np.absolute`` on\n",
      "    ndarrays.\n",
      "    \n",
      "    >>> x = np.array([-1.2, 1.2])\n",
      "    >>> abs(x)\n",
      "    array([1.2, 1.2])\n",
      "\n"
     ]
    }
   ],
   "source": [
    "from numpy import abs\n",
    "help(np.abs)"
   ]
  },
  {
   "cell_type": "code",
   "execution_count": 23,
   "metadata": {},
   "outputs": [
    {
     "name": "stdout",
     "output_type": "stream",
     "text": [
      "Help on function read in module scipy.io.wavfile:\n",
      "\n",
      "read(filename, mmap=False)\n",
      "    Open a WAV file.\n",
      "    \n",
      "    Return the sample rate (in samples/sec) and data from an LPCM WAV file.\n",
      "    \n",
      "    Parameters\n",
      "    ----------\n",
      "    filename : string or open file handle\n",
      "        Input WAV file.\n",
      "    mmap : bool, optional\n",
      "        Whether to read data as memory-mapped (default: False).  Not compatible\n",
      "        with some bit depths; see Notes.  Only to be used on real files.\n",
      "    \n",
      "        .. versionadded:: 0.12.0\n",
      "    \n",
      "    Returns\n",
      "    -------\n",
      "    rate : int\n",
      "        Sample rate of WAV file.\n",
      "    data : numpy array\n",
      "        Data read from WAV file. Data-type is determined from the file;\n",
      "        see Notes.  Data is 1-D for 1-channel WAV, or 2-D of shape\n",
      "        (Nsamples, Nchannels) otherwise. If a file-like input without a\n",
      "        C-like file descriptor (e.g., :class:`python:io.BytesIO`) is\n",
      "        passed, this will not be writeable.\n",
      "    \n",
      "    Notes\n",
      "    -----\n",
      "    Common data types: [1]_\n",
      "    \n",
      "    =====================  ===========  ===========  =============\n",
      "         WAV format            Min          Max       NumPy dtype\n",
      "    =====================  ===========  ===========  =============\n",
      "    32-bit floating-point  -1.0         +1.0         float32\n",
      "    32-bit integer PCM     -2147483648  +2147483647  int32\n",
      "    24-bit integer PCM     -2147483648  +2147483392  int32\n",
      "    16-bit integer PCM     -32768       +32767       int16\n",
      "    8-bit integer PCM      0            255          uint8\n",
      "    =====================  ===========  ===========  =============\n",
      "    \n",
      "    WAV files can specify arbitrary bit depth, and this function supports\n",
      "    reading any integer PCM depth from 1 to 64 bits.  Data is returned in the\n",
      "    smallest compatible numpy int type, in left-justified format.  8-bit and\n",
      "    lower is unsigned, while 9-bit and higher is signed.\n",
      "    \n",
      "    For example, 24-bit data will be stored as int32, with the MSB of the\n",
      "    24-bit data stored at the MSB of the int32, and typically the least\n",
      "    significant byte is 0x00.  (However, if a file actually contains data past\n",
      "    its specified bit depth, those bits will be read and output, too. [2]_)\n",
      "    \n",
      "    This bit justification and sign matches WAV's native internal format, which\n",
      "    allows memory mapping of WAV files that use 1, 2, 4, or 8 bytes per sample\n",
      "    (so 24-bit files cannot be memory-mapped, but 32-bit can).\n",
      "    \n",
      "    IEEE float PCM in 32- or 64-bit format is supported, with or without mmap.\n",
      "    Values exceeding [-1, +1] are not clipped.\n",
      "    \n",
      "    Non-linear PCM (mu-law, A-law) is not supported.\n",
      "    \n",
      "    References\n",
      "    ----------\n",
      "    .. [1] IBM Corporation and Microsoft Corporation, \"Multimedia Programming\n",
      "       Interface and Data Specifications 1.0\", section \"Data Format of the\n",
      "       Samples\", August 1991\n",
      "       http://www.tactilemedia.com/info/MCI_Control_Info.html\n",
      "    .. [2] Adobe Systems Incorporated, \"Adobe Audition 3 User Guide\", section\n",
      "       \"Audio file formats: 24-bit Packed Int (type 1, 20-bit)\", 2007\n",
      "    \n",
      "    Examples\n",
      "    --------\n",
      "    >>> from os.path import dirname, join as pjoin\n",
      "    >>> from scipy.io import wavfile\n",
      "    >>> import scipy.io\n",
      "    \n",
      "    Get the filename for an example .wav file from the tests/data directory.\n",
      "    \n",
      "    >>> data_dir = pjoin(dirname(scipy.io.__file__), 'tests', 'data')\n",
      "    >>> wav_fname = pjoin(data_dir, 'test-44100Hz-2ch-32bit-float-be.wav')\n",
      "    \n",
      "    Load the .wav file contents.\n",
      "    \n",
      "    >>> samplerate, data = wavfile.read(wav_fname)\n",
      "    >>> print(f\"number of channels = {data.shape[1]}\")\n",
      "    number of channels = 2\n",
      "    >>> length = data.shape[0] / samplerate\n",
      "    >>> print(f\"length = {length}s\")\n",
      "    length = 0.01s\n",
      "    \n",
      "    Plot the waveform.\n",
      "    \n",
      "    >>> import matplotlib.pyplot as plt\n",
      "    >>> import numpy as np\n",
      "    >>> time = np.linspace(0., length, data.shape[0])\n",
      "    >>> plt.plot(time, data[:, 0], label=\"Left channel\")\n",
      "    >>> plt.plot(time, data[:, 1], label=\"Right channel\")\n",
      "    >>> plt.legend()\n",
      "    >>> plt.xlabel(\"Time [s]\")\n",
      "    >>> plt.ylabel(\"Amplitude\")\n",
      "    >>> plt.show()\n",
      "\n"
     ]
    }
   ],
   "source": [
    "import scipy as sp\n",
    "help(sp.io.wavfile.read)"
   ]
  },
  {
   "cell_type": "code",
   "execution_count": 11,
   "metadata": {},
   "outputs": [
    {
     "ename": "AttributeError",
     "evalue": "'function' object has no attribute 'abs'",
     "output_type": "error",
     "traceback": [
      "\u001b[31m---------------------------------------------------------------------------\u001b[39m",
      "\u001b[31mAttributeError\u001b[39m                            Traceback (most recent call last)",
      "\u001b[36mCell\u001b[39m\u001b[36m \u001b[39m\u001b[32mIn[11]\u001b[39m\u001b[32m, line 1\u001b[39m\n\u001b[32m----> \u001b[39m\u001b[32m1\u001b[39m help(\u001b[43mnome_funcao\u001b[49m\u001b[43m.\u001b[49m\u001b[43mabs\u001b[49m)\n",
      "\u001b[31mAttributeError\u001b[39m: 'function' object has no attribute 'abs'"
     ]
    }
   ],
   "source": [
    "help(nome_funcao.abs)"
   ]
  },
  {
   "cell_type": "code",
   "execution_count": 20,
   "metadata": {},
   "outputs": [
    {
     "name": "stdout",
     "output_type": "stream",
     "text": [
      "3\n"
     ]
    }
   ],
   "source": [
    "print(nome_funcao(2,1))"
   ]
  },
  {
   "cell_type": "code",
   "execution_count": null,
   "metadata": {},
   "outputs": [],
   "source": []
  },
  {
   "cell_type": "markdown",
   "metadata": {
    "id": "elRD8QzWHXNT"
   },
   "source": [
    "# Comando ```print```"
   ]
  },
  {
   "cell_type": "markdown",
   "metadata": {
    "id": "0oUu3AGJHlGe"
   },
   "source": [
    "Outro dos comandandos mais utilizados em Python é o comandando ```print```\n",
    "\n",
    "```python\n",
    "print(string_a_ser_impressa_na_tela)\n",
    "```"
   ]
  },
  {
   "cell_type": "code",
   "execution_count": 24,
   "metadata": {
    "colab": {
     "base_uri": "https://localhost:8080/"
    },
    "id": "LI6naX9OviMh",
    "outputId": "e12a60c5-eb60-4af7-de57-ede5c8435a84"
   },
   "outputs": [
    {
     "name": "stdout",
     "output_type": "stream",
     "text": [
      "10\n"
     ]
    }
   ],
   "source": [
    "print(10)"
   ]
  },
  {
   "cell_type": "code",
   "execution_count": 25,
   "metadata": {},
   "outputs": [
    {
     "data": {
      "text/plain": [
       "bool"
      ]
     },
     "execution_count": 25,
     "metadata": {},
     "output_type": "execute_result"
    }
   ],
   "source": [
    "type(True)"
   ]
  },
  {
   "cell_type": "code",
   "execution_count": 26,
   "metadata": {},
   "outputs": [
    {
     "data": {
      "text/plain": [
       "bool"
      ]
     },
     "execution_count": 26,
     "metadata": {},
     "output_type": "execute_result"
    }
   ],
   "source": [
    "type(5 > 2)"
   ]
  },
  {
   "cell_type": "code",
   "execution_count": 27,
   "metadata": {},
   "outputs": [
    {
     "name": "stdout",
     "output_type": "stream",
     "text": [
      "10\n"
     ]
    },
    {
     "data": {
      "text/plain": [
       "NoneType"
      ]
     },
     "execution_count": 27,
     "metadata": {},
     "output_type": "execute_result"
    }
   ],
   "source": [
    "type(print(10))"
   ]
  },
  {
   "cell_type": "code",
   "execution_count": 28,
   "metadata": {},
   "outputs": [
    {
     "data": {
      "text/plain": [
       "str"
      ]
     },
     "execution_count": 28,
     "metadata": {},
     "output_type": "execute_result"
    }
   ],
   "source": [
    "type('10.0')"
   ]
  },
  {
   "cell_type": "code",
   "execution_count": 29,
   "metadata": {
    "colab": {
     "base_uri": "https://localhost:8080/"
    },
    "id": "rR4uF4DsH0J3",
    "outputId": "0eddd175-e2bb-4e5a-c458-68be1165f96a"
   },
   "outputs": [
    {
     "name": "stdout",
     "output_type": "stream",
     "text": [
      "10.0\n"
     ]
    }
   ],
   "source": [
    "print('10.0')"
   ]
  },
  {
   "cell_type": "code",
   "execution_count": 52,
   "metadata": {
    "colab": {
     "base_uri": "https://localhost:8080/",
     "height": 129
    },
    "id": "_ruFZZnnfU3T",
    "outputId": "c5a84b46-513e-4392-93e3-5f21296c7524"
   },
   "outputs": [
    {
     "name": "stdout",
     "output_type": "stream",
     "text": [
      "Five is greater than two!\n"
     ]
    }
   ],
   "source": [
    "if (5 > 2):\n",
    "    print(\"Five is greater than two!\")"
   ]
  },
  {
   "cell_type": "code",
   "execution_count": null,
   "metadata": {},
   "outputs": [],
   "source": []
  },
  {
   "cell_type": "markdown",
   "metadata": {
    "id": "TegvOMbpLRQA"
   },
   "source": [
    "Perceba que python é uma linguagem de programação que leva em consideração a identação do código. Ou seja, caso fizéssemos:\n",
    "\n",
    "```python\n",
    "if (5>2):\n",
    "print(\"Five is greater than two!\")\n",
    "```\n",
    "Encontrariamos um erro na execução do código devido a falta de identação depois do ```if```\n"
   ]
  },
  {
   "cell_type": "code",
   "execution_count": 30,
   "metadata": {
    "colab": {
     "base_uri": "https://localhost:8080/"
    },
    "id": "HuGLokx4fU3W",
    "outputId": "b0052c90-cd57-4ecd-8fd5-e13764d25b6b"
   },
   "outputs": [
    {
     "name": "stdout",
     "output_type": "stream",
     "text": [
      "5 Hello, World!\n"
     ]
    }
   ],
   "source": [
    "x = 5\n",
    "y = \"Hello, World!\"\n",
    "\n",
    "print(x,y)"
   ]
  },
  {
   "cell_type": "code",
   "execution_count": 51,
   "metadata": {},
   "outputs": [
    {
     "name": "stdout",
     "output_type": "stream",
     "text": [
      "30 7 8\n"
     ]
    }
   ],
   "source": [
    "x = 5\n",
    "y = 6\n",
    "z = 7\n",
    "w = \"8\"\n",
    "#saida = '%s, %i, %i, %f'%(x,y,w,z)\n",
    "\n",
    "print(x*y,z,w)"
   ]
  },
  {
   "cell_type": "code",
   "execution_count": 52,
   "metadata": {
    "colab": {
     "base_uri": "https://localhost:8080/"
    },
    "id": "Kif6esCgfU3a",
    "outputId": "eebf3b73-c0d0-4ef4-8168-4170e142d8c4"
   },
   "outputs": [
    {
     "name": "stdout",
     "output_type": "stream",
     "text": [
      "This is a comment.\n"
     ]
    }
   ],
   "source": [
    "#This is a comment.\n",
    "print(\"This is a comment.\")"
   ]
  },
  {
   "cell_type": "code",
   "execution_count": 53,
   "metadata": {
    "colab": {
     "base_uri": "https://localhost:8080/"
    },
    "id": "Tnuh0txefU3e",
    "outputId": "280ee994-a3f6-436d-f607-bfb815621be2"
   },
   "outputs": [
    {
     "name": "stdout",
     "output_type": "stream",
     "text": [
      "This is a comment.\n"
     ]
    }
   ],
   "source": [
    "\"\"\"\n",
    "This is a comment\n",
    "written in\n",
    "more than just one line\n",
    "\"\"\"\n",
    "print(\"This is a comment.\")"
   ]
  },
  {
   "cell_type": "markdown",
   "metadata": {
    "id": "9lctKxQyNho7"
   },
   "source": [
    "# Histórico de mensagens de entrada e saída"
   ]
  },
  {
   "cell_type": "markdown",
   "metadata": {
    "id": "zsv8EnZlNpej"
   },
   "source": [
    "Por ser uma linguagem interpretada, assim como o MatLab, o Python tem um histórico de saídas armazenadas. Assim sendo, vamos a alguns exemplos:\n"
   ]
  },
  {
   "cell_type": "markdown",
   "metadata": {
    "id": "aQzp66u_QFSw"
   },
   "source": [
    "**Carga da biblioteca** ```math```<br>\n",
    "Este biblioteca tem algumas das funções de matemática trigonométrica já implementada"
   ]
  },
  {
   "cell_type": "code",
   "execution_count": 55,
   "metadata": {
    "id": "WkzzGjxqabjB"
   },
   "outputs": [],
   "source": [
    "import math"
   ]
  },
  {
   "cell_type": "code",
   "execution_count": 57,
   "metadata": {},
   "outputs": [
    {
     "name": "stdout",
     "output_type": "stream",
     "text": [
      "Help on built-in function sin in module math:\n",
      "\n",
      "sin(x, /)\n",
      "    Return the sine of x (measured in radians).\n",
      "\n"
     ]
    }
   ],
   "source": [
    "help(math.sin)"
   ]
  },
  {
   "cell_type": "code",
   "execution_count": 59,
   "metadata": {
    "scrolled": true
   },
   "outputs": [
    {
     "name": "stdout",
     "output_type": "stream",
     "text": [
      "Help on float object:\n",
      "\n",
      "class float(object)\n",
      " |  float(x=0, /)\n",
      " |  \n",
      " |  Convert a string or number to a floating point number, if possible.\n",
      " |  \n",
      " |  Methods defined here:\n",
      " |  \n",
      " |  __abs__(self, /)\n",
      " |      abs(self)\n",
      " |  \n",
      " |  __add__(self, value, /)\n",
      " |      Return self+value.\n",
      " |  \n",
      " |  __bool__(self, /)\n",
      " |      True if self else False\n",
      " |  \n",
      " |  __ceil__(self, /)\n",
      " |      Return the ceiling as an Integral.\n",
      " |  \n",
      " |  __divmod__(self, value, /)\n",
      " |      Return divmod(self, value).\n",
      " |  \n",
      " |  __eq__(self, value, /)\n",
      " |      Return self==value.\n",
      " |  \n",
      " |  __float__(self, /)\n",
      " |      float(self)\n",
      " |  \n",
      " |  __floor__(self, /)\n",
      " |      Return the floor as an Integral.\n",
      " |  \n",
      " |  __floordiv__(self, value, /)\n",
      " |      Return self//value.\n",
      " |  \n",
      " |  __format__(self, format_spec, /)\n",
      " |      Formats the float according to format_spec.\n",
      " |  \n",
      " |  __ge__(self, value, /)\n",
      " |      Return self>=value.\n",
      " |  \n",
      " |  __getattribute__(self, name, /)\n",
      " |      Return getattr(self, name).\n",
      " |  \n",
      " |  __getnewargs__(self, /)\n",
      " |  \n",
      " |  __gt__(self, value, /)\n",
      " |      Return self>value.\n",
      " |  \n",
      " |  __hash__(self, /)\n",
      " |      Return hash(self).\n",
      " |  \n",
      " |  __int__(self, /)\n",
      " |      int(self)\n",
      " |  \n",
      " |  __le__(self, value, /)\n",
      " |      Return self<=value.\n",
      " |  \n",
      " |  __lt__(self, value, /)\n",
      " |      Return self<value.\n",
      " |  \n",
      " |  __mod__(self, value, /)\n",
      " |      Return self%value.\n",
      " |  \n",
      " |  __mul__(self, value, /)\n",
      " |      Return self*value.\n",
      " |  \n",
      " |  __ne__(self, value, /)\n",
      " |      Return self!=value.\n",
      " |  \n",
      " |  __neg__(self, /)\n",
      " |      -self\n",
      " |  \n",
      " |  __pos__(self, /)\n",
      " |      +self\n",
      " |  \n",
      " |  __pow__(self, value, mod=None, /)\n",
      " |      Return pow(self, value, mod).\n",
      " |  \n",
      " |  __radd__(self, value, /)\n",
      " |      Return value+self.\n",
      " |  \n",
      " |  __rdivmod__(self, value, /)\n",
      " |      Return divmod(value, self).\n",
      " |  \n",
      " |  __repr__(self, /)\n",
      " |      Return repr(self).\n",
      " |  \n",
      " |  __rfloordiv__(self, value, /)\n",
      " |      Return value//self.\n",
      " |  \n",
      " |  __rmod__(self, value, /)\n",
      " |      Return value%self.\n",
      " |  \n",
      " |  __rmul__(self, value, /)\n",
      " |      Return value*self.\n",
      " |  \n",
      " |  __round__(self, ndigits=None, /)\n",
      " |      Return the Integral closest to x, rounding half toward even.\n",
      " |      \n",
      " |      When an argument is passed, work like built-in round(x, ndigits).\n",
      " |  \n",
      " |  __rpow__(self, value, mod=None, /)\n",
      " |      Return pow(value, self, mod).\n",
      " |  \n",
      " |  __rsub__(self, value, /)\n",
      " |      Return value-self.\n",
      " |  \n",
      " |  __rtruediv__(self, value, /)\n",
      " |      Return value/self.\n",
      " |  \n",
      " |  __sub__(self, value, /)\n",
      " |      Return self-value.\n",
      " |  \n",
      " |  __truediv__(self, value, /)\n",
      " |      Return self/value.\n",
      " |  \n",
      " |  __trunc__(self, /)\n",
      " |      Return the Integral closest to x between 0 and x.\n",
      " |  \n",
      " |  as_integer_ratio(self, /)\n",
      " |      Return integer ratio.\n",
      " |      \n",
      " |      Return a pair of integers, whose ratio is exactly equal to the original float\n",
      " |      and with a positive denominator.\n",
      " |      \n",
      " |      Raise OverflowError on infinities and a ValueError on NaNs.\n",
      " |      \n",
      " |      >>> (10.0).as_integer_ratio()\n",
      " |      (10, 1)\n",
      " |      >>> (0.0).as_integer_ratio()\n",
      " |      (0, 1)\n",
      " |      >>> (-.25).as_integer_ratio()\n",
      " |      (-1, 4)\n",
      " |  \n",
      " |  conjugate(self, /)\n",
      " |      Return self, the complex conjugate of any float.\n",
      " |  \n",
      " |  hex(self, /)\n",
      " |      Return a hexadecimal representation of a floating-point number.\n",
      " |      \n",
      " |      >>> (-0.1).hex()\n",
      " |      '-0x1.999999999999ap-4'\n",
      " |      >>> 3.14159.hex()\n",
      " |      '0x1.921f9f01b866ep+1'\n",
      " |  \n",
      " |  is_integer(self, /)\n",
      " |      Return True if the float is an integer.\n",
      " |  \n",
      " |  ----------------------------------------------------------------------\n",
      " |  Class methods defined here:\n",
      " |  \n",
      " |  __getformat__(typestr, /)\n",
      " |      You probably don't want to use this function.\n",
      " |      \n",
      " |        typestr\n",
      " |          Must be 'double' or 'float'.\n",
      " |      \n",
      " |      It exists mainly to be used in Python's test suite.\n",
      " |      \n",
      " |      This function returns whichever of 'unknown', 'IEEE, big-endian' or 'IEEE,\n",
      " |      little-endian' best describes the format of floating point numbers used by the\n",
      " |      C type named by typestr.\n",
      " |  \n",
      " |  fromhex(string, /)\n",
      " |      Create a floating-point number from a hexadecimal string.\n",
      " |      \n",
      " |      >>> float.fromhex('0x1.ffffp10')\n",
      " |      2047.984375\n",
      " |      >>> float.fromhex('-0x1p-1074')\n",
      " |      -5e-324\n",
      " |  \n",
      " |  ----------------------------------------------------------------------\n",
      " |  Static methods defined here:\n",
      " |  \n",
      " |  __new__(*args, **kwargs)\n",
      " |      Create and return a new object.  See help(type) for accurate signature.\n",
      " |  \n",
      " |  ----------------------------------------------------------------------\n",
      " |  Data descriptors defined here:\n",
      " |  \n",
      " |  imag\n",
      " |      the imaginary part of a complex number\n",
      " |  \n",
      " |  real\n",
      " |      the real part of a complex number\n",
      "\n"
     ]
    }
   ],
   "source": [
    "help(math.pi)"
   ]
  },
  {
   "cell_type": "code",
   "execution_count": 60,
   "metadata": {
    "colab": {
     "base_uri": "https://localhost:8080/"
    },
    "id": "FOAU9GqlOOXP",
    "outputId": "c884b53b-b882-43d6-ac91-ef4c75bab52a"
   },
   "outputs": [
    {
     "data": {
      "text/plain": [
       "-2.4492935982947064e-16"
      ]
     },
     "execution_count": 60,
     "metadata": {},
     "output_type": "execute_result"
    }
   ],
   "source": [
    "math.sin(2*math.pi) # seno de 2\\pi"
   ]
  },
  {
   "cell_type": "code",
   "execution_count": 61,
   "metadata": {
    "colab": {
     "base_uri": "https://localhost:8080/"
    },
    "id": "Ex4a77f1OR89",
    "outputId": "fd554f7c-2019-42ab-c4a1-dac74502fbea"
   },
   "outputs": [
    {
     "data": {
      "text/plain": [
       "1.0"
      ]
     },
     "execution_count": 61,
     "metadata": {},
     "output_type": "execute_result"
    }
   ],
   "source": [
    "math.cos(2*math.pi) # cosseno de 2"
   ]
  },
  {
   "cell_type": "code",
   "execution_count": 90,
   "metadata": {},
   "outputs": [
    {
     "name": "stdout",
     "output_type": "stream",
     "text": [
      "2.0\n"
     ]
    }
   ],
   "source": [
    "theta = math.pi\n",
    "resultado = math.cos(theta)**2+math.sin(theta)**2\n",
    "print(2*resultado)"
   ]
  },
  {
   "cell_type": "code",
   "execution_count": 91,
   "metadata": {
    "colab": {
     "base_uri": "https://localhost:8080/"
    },
    "id": "n0bg10ESOx5R",
    "outputId": "1f0603e7-7400-4a4e-a70c-066ee8768e07"
   },
   "outputs": [
    {
     "name": "stdout",
     "output_type": "stream",
     "text": [
      "['', 'help(print)', 'help(print)', \"a = 3\\ndef nome_funcao(a,b):\\n    '''\\n        Documentação aqui\\n        Olhe aqui!\\n    '''\\n    return a+b\", \"a = 3\\ndef nome_funcao(a,b):\\n    '''\\n        Documentação aqui\\n        Olhe aqui!\\n    '''\\n    return a+b\", 'import numpy as np\\nnp.abs(nome_funcao(a=-2,b=1))\\nprint(a)', 'import numpy as np\\nprint(np.abs(nome_funcao(a=-2,b=1)))\\nprint(a)', 'help(nome_funcao)', \"a = 3\\ndef nome_funcao(a,b):\\n    '''\\n        Documentação aqui\\n        Olhe aqui!\\n    '''\\n    return np.abs(a+b)\", 'help(nome_funcao, np.abs)', 'help(nome_funcao)', 'help(nome_funcao.abs)', 'from numpy import abshelp(np.abs)', 'from numpy import abshelp(np.abs)', 'from numpy import abshelp(np.abs)', 'from numpy import abs\\nhelp(np.abs)', 'import scipy as sp', 'import scipy as sp\\nhelp(sp)', 'import scipy as sp\\nhelp(sp.io)', 'import scipy as sp\\nhelp(sp.io.wavread)', 'import scipy as sp\\nhelp(sp.io.wav)', 'import scipy as sp\\nhelp(sp.io)', 'import scipy as sp\\nhelp(sp.io.wavfile.read)', 'import scipy as sp\\nhelp(sp.io.wavfile.read)', 'print(10)', 'type(True)', 'type(5 > 2)', 'type(print(10))', \"type('10.0')\", \"print('10.0')\", 'x = 5\\ny = \"Hello, World!\"\\n\\nprint(x,y)', 'x = 5\\ny = 6\\nz = 7\\nw = 8\\n\\nprint(x,y,z,w)', 'x = 5\\ny = 6\\nz = 7\\nw = 8\\nprint(type(x))\\n\\nprint(x,y,z,w)', 'x = 5.\\ny = 6\\nz = 7\\nw = 8\\nprint(type(x))\\n\\nprint(x,y,z,w)', 'x = \"5\"\\ny = 6\\nz = 7\\nw = 8\\nprint(type(x))\\n\\nprint(x,y,z,w)', 'x = \"5\"\\ny = 6\\nz = 7\\nw = 8\\nsaida = \\'5678\\'\\n\\nprint(saida)', 'x = \"5\"\\ny = 6\\nz = 7\\nw = 8\\nsaida = \\'5, 6, 7, 8\\'\\n\\nprint(saida)', 'x = \"5\"\\ny = 6\\nz = 7\\nw = 8\\nsaida = \\'%s, %i, %i, %i\\' (x,y,z,w)\\n\\nprint(saida)', 'x = \"5\"\\ny = 6\\nz = 7\\nw = 8\\nsaida = \\'%s, %i, %i, %i\\'%(x,y,z,w)\\n\\nprint(saida)', 'x = \"5\"\\ny = 6\\nz = 7\\nw = 8\\nsaida = \\'%s, %i, %i, %i\\'%(x,y,w,z)\\n\\nprint(saida)', 'x = \"5\"\\ny = 6\\nz = 7\\nw = 8.\\nsaida = \\'%s, %i, %i, %i\\'%(x,y,w,z)\\n\\nprint(saida)', 'x = \"5\"\\ny = 6\\nz = 7\\nw = 8.\\nsaida = \\'%s, %i, %i, %f\\'%(x,y,w,z)\\n\\nprint(saida)', 'x = \"5\"\\ny = 6\\nz = 7\\nw = \"8\"\\nsaida = \\'%s, %i, %i, %f\\'%(x,y,w,z)\\n\\nprint(saida)', 'x = \"5\"\\ny = \"6\"\\nz = 7\\nw = \"8\"\\nsaida = \\'%s, %i, %i, %f\\'%(x,y,w,z)\\n\\nprint(saida)', 'x = \"5\"\\ny = \"6\"\\nz = 7\\nw = \"8\"\\nsaida = \\'%s, %i, %i, %f\\'%(x,y,w,z)\\n\\nprint(x,y,z,w)', 'x = \"5\"\\ny = \"6\"\\nz = 7\\nw = \"8\"\\n#saida = \\'%s, %i, %i, %f\\'%(x,y,w,z)\\n\\nprint(x,y,z,w)', 'x = \"5\"\\ny = \"6\"\\nz = 7\\nw = \"8\"\\n#saida = \\'%s, %i, %i, %f\\'%(x,y,w,z)\\n\\nprint(xy,z,w)', 'x = \"5\"\\ny = \"6\"\\nz = 7\\nw = \"8\"\\n#saida = \\'%s, %i, %i, %f\\'%(x,y,w,z)\\n\\nprint(x+y,z,w)', 'x = \"5\"\\ny = \"6\"\\nz = 7\\nw = \"8\"\\n#saida = \\'%s, %i, %i, %f\\'%(x,y,w,z)\\n\\nprint(x*y,z,w)', 'x = 5\\ny = 6\\nz = 7\\nw = \"8\"\\n#saida = \\'%s, %i, %i, %f\\'%(x,y,w,z)\\n\\nprint(x*y,z,w)', 'x = 5\\ny = 6\\nz = 7\\nw = \"8\"\\n#saida = \\'%s, %i, %i, %f\\'%(x,y,w,z)\\n\\nprint(xy,z,w)', 'x = 5\\ny = 6\\nz = 7\\nw = \"8\"\\n#saida = \\'%s, %i, %i, %f\\'%(x,y,w,z)\\n\\nprint(x*y,z,w)', '#This is a comment.\\nprint(\"This is a comment.\")', '\"\"\"\\nThis is a comment\\nwritten in\\nmore than just one line\\n\"\"\"\\nprint(\"This is a comment.\")', 'import math', 'import math', 'math.sin(2) # seno de 2', 'help(math.sin)', 'math.sin(2*np.pi) # seno de 2', 'help(math.pi)', 'math.sin(2*math.pi) # seno de 2', 'math.cos(2*math.pi) # cosseno de 2', 'resultado = math.cos(2*math.pi)**2+math.sen(2*math.pi)**2', 'resultado = math.cos(2*math.pi)**2+math.sin(2*math.pi)**2', 'resultado = math.cos(2*math.pi)**2+math.sin(2*math.pi)**2\\nprint(resultado)', 'theta = math.pi\\nresultado = math.cos(2*math.pi)**2+math.sin(2*math.pi)**2\\nprint(resultado)', 'theta = math.pi\\nresultado = math.cos(theta)**2+math.sin(theta**2\\nprint(resultado)', 'theta = math.pi\\nresultado = math.cos(theta)**2+math.sin(theta)**2\\nprint(resultado)', 'print(In)', 'print(Out)', 'print(_) # mostra a', 'print(_) # mostra a ultima variável utilizada', 'a = 2', 'print(_) # mostra a ultima variável utilizada', 'print(a)', 'print(_) # mostra a ultima variável utilizada', 'print(Out)', 'print(Out)', 'print(Out)', 'print(Out)', 'print(Out)', 'print(Out)', 'print(Out)', 'print(a)', 'print(_) # mostra a ultima variável utilizada', 'print(Out)', 'print(Out)', 'print(Out)', 'print(_) # mostra a ultima variável utilizada', 'theta = math.pi\\nresultado = math.cos(theta)**2+math.sin(theta)**2\\nprint(resultado)', 'theta = math.pi\\nresultado = math.cos(theta)**2+math.sin(theta)**2\\nprint(2*resultado)', 'print(In)']\n"
     ]
    }
   ],
   "source": [
    "print(In)"
   ]
  },
  {
   "cell_type": "markdown",
   "metadata": {
    "id": "4ggOUhT3O0Mh"
   },
   "source": [
    "Podemos ver aqui que as entradas que foram processadas pelo interpretador do Python estão impressas por este comando (```print(In)```). Perceba que a ordem de cada uma das entradas é a mesma com as quais estas foram introduzidas para interpretação."
   ]
  },
  {
   "cell_type": "code",
   "execution_count": 93,
   "metadata": {
    "colab": {
     "base_uri": "https://localhost:8080/"
    },
    "id": "Dh2CvI1APKlJ",
    "outputId": "f172ae43-b772-4d46-cf45-30852a92d865"
   },
   "outputs": [
    {
     "name": "stdout",
     "output_type": "stream",
     "text": [
      "{25: <class 'bool'>, 26: <class 'bool'>, 27: <class 'NoneType'>, 28: <class 'str'>, 56: 0.9092974268256817, 58: -2.4492935982947064e-16, 60: -2.4492935982947064e-16, 61: 1.0}\n"
     ]
    }
   ],
   "source": [
    "print(Out)"
   ]
  },
  {
   "cell_type": "markdown",
   "metadata": {
    "id": "1-6sGaD5PP7a"
   },
   "source": [
    "Repare que da mesma maneira que o comando anterior, o comando ```print(Out)``` também imprime as saídas de cada um dos comandos que foram adicionados para processamento."
   ]
  },
  {
   "cell_type": "markdown",
   "metadata": {
    "id": "pv8G4EQpQbIG"
   },
   "source": [
    "Vamos a uma outra forma de acessar o histórico de saida em Python. <br>\n",
    "Existe uma variável de execução (escondida durante a execução) que pode ser acessada facilmente dentro do código, a variável se chama ```_```"
   ]
  },
  {
   "cell_type": "code",
   "execution_count": 83,
   "metadata": {},
   "outputs": [
    {
     "name": "stdout",
     "output_type": "stream",
     "text": [
      "2\n"
     ]
    }
   ],
   "source": [
    "print(a)"
   ]
  },
  {
   "cell_type": "code",
   "execution_count": 102,
   "metadata": {
    "colab": {
     "base_uri": "https://localhost:8080/"
    },
    "id": "kb5rSleCQ2wk",
    "outputId": "87b6dfdc-934a-4f7e-b2af-9b488cf09120"
   },
   "outputs": [
    {
     "name": "stdout",
     "output_type": "stream",
     "text": [
      "1.0\n"
     ]
    }
   ],
   "source": [
    "print(_) # mostra a ultima variável utilizada"
   ]
  },
  {
   "cell_type": "code",
   "execution_count": 104,
   "metadata": {},
   "outputs": [
    {
     "name": "stdout",
     "output_type": "stream",
     "text": [
      "{25: <class 'bool'>, 26: <class 'bool'>, 27: <class 'NoneType'>, 28: <class 'str'>, 56: 0.9092974268256817, 58: -2.4492935982947064e-16, 60: -2.4492935982947064e-16, 61: 1.0}\n"
     ]
    }
   ],
   "source": [
    "print(Out)"
   ]
  },
  {
   "cell_type": "code",
   "execution_count": null,
   "metadata": {},
   "outputs": [],
   "source": []
  },
  {
   "cell_type": "markdown",
   "metadata": {
    "id": "JX7sKeGSfU3h"
   },
   "source": [
    "# Variáveis em Python\n",
    "\n",
    "Variáveis são contêineres para armazenar valores de dados. <br>\n",
    "\n",
    "Ao contrário de outras linguagens de programação, o Python não possui comando para declarar uma variável.\n",
    "\n",
    "Uma variável é criada no momento em que você atribui um valor a ela."
   ]
  },
  {
   "cell_type": "code",
   "execution_count": 96,
   "metadata": {
    "colab": {
     "base_uri": "https://localhost:8080/"
    },
    "id": "okdongzsfU3i",
    "outputId": "1edca88c-3392-48d9-a07d-1edcf18101e1"
   },
   "outputs": [
    {
     "name": "stdout",
     "output_type": "stream",
     "text": [
      "5\n",
      "John\n"
     ]
    }
   ],
   "source": [
    "x = 5\n",
    "y = \"John\"\n",
    "print(x)\n",
    "print(y)"
   ]
  },
  {
   "cell_type": "code",
   "execution_count": 98,
   "metadata": {
    "colab": {
     "base_uri": "https://localhost:8080/"
    },
    "id": "qktFlmqhfU3m",
    "outputId": "322db112-06f8-4ff7-baef-e51681e63490"
   },
   "outputs": [
    {
     "name": "stdout",
     "output_type": "stream",
     "text": [
      "Sally\n"
     ]
    }
   ],
   "source": [
    "x = 4 # x is of type int\n",
    "x = \"Sally\" # x is now of type str\n",
    "print(x)"
   ]
  },
  {
   "cell_type": "code",
   "execution_count": 99,
   "metadata": {
    "colab": {
     "base_uri": "https://localhost:8080/"
    },
    "id": "d0iE8RsNfU3q",
    "outputId": "dbf8adb1-e2e3-4e7c-fa56-b1d421d9cae5"
   },
   "outputs": [
    {
     "name": "stdout",
     "output_type": "stream",
     "text": [
      "John\n",
      "John\n"
     ]
    }
   ],
   "source": [
    "x = \"John\"\n",
    "print(x)\n",
    "# is the same as\n",
    "x = 'John'\n",
    "print(x)"
   ]
  },
  {
   "cell_type": "markdown",
   "metadata": {
    "id": "-H3F0vZ6fU3t"
   },
   "source": [
    "# Boas práticas em python\n",
    "\n",
    "Uma variável pode ter um nome abreviado (como x e y) ou um nome mais descritivo (age, carname, total_volume). Regras para variáveis do Python:<br>\n",
    " 1 - Um nome de variável deve começar com uma letra ou o caractere de sublinhado<br>\n",
    " 2 - O nome de variável não deve começar com um número<br>\n",
    " 3 - Um nome de variável só deve conter caracteres alfanuméricos e sublinhados (A-z, 0-9 e _)<br>\n",
    " 4 - Os nomes das variáveis fazem distinção entre maiúsculas e minúsculas (idade, Idade e IDADE são três variáveis diferentes)<br>"
   ]
  },
  {
   "cell_type": "code",
   "execution_count": 100,
   "metadata": {
    "colab": {
     "base_uri": "https://localhost:8080/"
    },
    "id": "1dmImlJqfU3t",
    "outputId": "e241a230-e6f7-4a55-8aa7-d6393fb1548d"
   },
   "outputs": [
    {
     "name": "stdout",
     "output_type": "stream",
     "text": [
      "Orange\n",
      "Banana\n",
      "Cherry\n"
     ]
    }
   ],
   "source": [
    "x, y, z = \"Orange\", \"Banana\", \"Cherry\"\n",
    "print(x)\n",
    "print(y)\n",
    "print(z)"
   ]
  },
  {
   "cell_type": "code",
   "execution_count": 105,
   "metadata": {
    "colab": {
     "base_uri": "https://localhost:8080/"
    },
    "id": "Fuzyvb3hfU3w",
    "outputId": "729d0d97-a757-4ef8-cbd0-38e701b1a7cb"
   },
   "outputs": [
    {
     "name": "stdout",
     "output_type": "stream",
     "text": [
      "Orange\n",
      "Orange\n",
      "Orange\n"
     ]
    }
   ],
   "source": [
    "x = y = z = \"Orange\"\n",
    "print(x)\n",
    "print(y)\n",
    "print(z)"
   ]
  },
  {
   "cell_type": "code",
   "execution_count": 106,
   "metadata": {
    "colab": {
     "base_uri": "https://localhost:8080/"
    },
    "id": "pMq5EvAMfU30",
    "outputId": "300a5abb-a805-4bbc-af59-cdc0c697a93f"
   },
   "outputs": [
    {
     "name": "stdout",
     "output_type": "stream",
     "text": [
      "Python is awesome\n"
     ]
    }
   ],
   "source": [
    "x = \"awesome\"\n",
    "print(\"Python is \" + x)"
   ]
  },
  {
   "cell_type": "code",
   "execution_count": 116,
   "metadata": {},
   "outputs": [
    {
     "name": "stdout",
     "output_type": "stream",
     "text": [
      "Help on built-in function format in module builtins:\n",
      "\n",
      "format(value, format_spec='', /)\n",
      "    Return value.__format__(format_spec)\n",
      "    \n",
      "    format_spec defaults to the empty string.\n",
      "    See the Format Specification Mini-Language section of help('FORMATTING') for\n",
      "    details.\n",
      "\n"
     ]
    }
   ],
   "source": [
    "help(format)"
   ]
  },
  {
   "cell_type": "code",
   "execution_count": null,
   "metadata": {},
   "outputs": [],
   "source": []
  },
  {
   "cell_type": "code",
   "execution_count": 113,
   "metadata": {
    "colab": {
     "base_uri": "https://localhost:8080/"
    },
    "id": "6eC80ANefU33",
    "outputId": "b681eb52-6697-4d4d-ba0f-cfc005b03448"
   },
   "outputs": [
    {
     "name": "stdout",
     "output_type": "stream",
     "text": [
      "Python is awesome, 10, 100.2000\n"
     ]
    }
   ],
   "source": [
    "x = \"awesome\"\n",
    "y = 10\n",
    "z = 000100.2\n",
    "print(\"Python is %s, %i, %1.4f\"%(x,y,z))"
   ]
  },
  {
   "cell_type": "code",
   "execution_count": 119,
   "metadata": {
    "colab": {
     "base_uri": "https://localhost:8080/"
    },
    "id": "Ddwo78f1fU36",
    "outputId": "e9aa2661-08e2-493e-c9ee-16f9be649b50"
   },
   "outputs": [
    {
     "name": "stdout",
     "output_type": "stream",
     "text": [
      "Python is awesome\n"
     ]
    }
   ],
   "source": [
    "x = \"Python is \"\n",
    "y = \"awesome\"\n",
    "z =  x + y\n",
    "print(z)"
   ]
  },
  {
   "cell_type": "code",
   "execution_count": 117,
   "metadata": {
    "colab": {
     "base_uri": "https://localhost:8080/"
    },
    "id": "YJ366s34fU39",
    "outputId": "8f3f32bc-9aff-403f-cebf-49e372e08d6c"
   },
   "outputs": [
    {
     "name": "stdout",
     "output_type": "stream",
     "text": [
      "15\n"
     ]
    }
   ],
   "source": [
    "x = 5\n",
    "y = 10\n",
    "print(x + y)"
   ]
  },
  {
   "cell_type": "code",
   "execution_count": 135,
   "metadata": {
    "colab": {
     "base_uri": "https://localhost:8080/"
    },
    "id": "dDVHLoW6fU4A",
    "outputId": "1328cc73-47b7-4657-c059-96bbaae8253b"
   },
   "outputs": [
    {
     "name": "stdout",
     "output_type": "stream",
     "text": [
      "0\n",
      "1\n",
      "0\n"
     ]
    }
   ],
   "source": [
    "x = 8\n",
    "y = 5\n",
    "print('%i'%(y/x)) # arrendondamento padrão\n",
    "print('%i'%(np.ceil(y/x))) # arrendondamento pra cima\n",
    "print('%i'%(np.floor(y/x))) # arrendondamento pra baixo"
   ]
  },
  {
   "cell_type": "code",
   "execution_count": 129,
   "metadata": {},
   "outputs": [
    {
     "name": "stdout",
     "output_type": "stream",
     "text": [
      "Help on function round_ in module numpy:\n",
      "\n",
      "round_(a, decimals=0, out=None)\n",
      "    Round an array to the given number of decimals.\n",
      "    \n",
      "    See Also\n",
      "    --------\n",
      "    around : equivalent function; see for details.\n",
      "\n"
     ]
    }
   ],
   "source": [
    "help(np.round)"
   ]
  },
  {
   "cell_type": "code",
   "execution_count": 133,
   "metadata": {},
   "outputs": [
    {
     "name": "stdout",
     "output_type": "stream",
     "text": [
      "1\n"
     ]
    }
   ],
   "source": [
    "x = 8\n",
    "y = 5\n",
    "print('%i'%(np.ceil(y/x)))"
   ]
  },
  {
   "cell_type": "markdown",
   "metadata": {
    "id": "Pl370OVRfU4D"
   },
   "source": [
    "# Tipos Numéricos em Python\n",
    "Existem três tipos numéricos no Python:\n",
    "\n",
    "int <br>\n",
    "float <br>\n",
    "complexo <br> <br>\n",
    "Variáveis de tipos numéricos são criadas quando você atribui um valor a elas!"
   ]
  },
  {
   "cell_type": "code",
   "execution_count": 139,
   "metadata": {
    "colab": {
     "base_uri": "https://localhost:8080/"
    },
    "id": "wT26H51XfU4D",
    "outputId": "a5a20810-5a03-41be-9b4c-fa56d5a9be43"
   },
   "outputs": [
    {
     "name": "stdout",
     "output_type": "stream",
     "text": [
      "<class 'int'>\n",
      "<class 'float'>\n",
      "<class 'complex'>\n"
     ]
    }
   ],
   "source": [
    "x = 1    # int\n",
    "y = 2.8  # float\n",
    "z = 1j+1   # complex\n",
    "\n",
    "print(type(x))\n",
    "print(type(y))\n",
    "print(type(z))"
   ]
  },
  {
   "cell_type": "code",
   "execution_count": 140,
   "metadata": {
    "colab": {
     "base_uri": "https://localhost:8080/"
    },
    "id": "NIudYu6OfU4H",
    "outputId": "3a3bbe01-6a3b-4b05-a4df-32855469f68b"
   },
   "outputs": [
    {
     "name": "stdout",
     "output_type": "stream",
     "text": [
      "<class 'int'>\n",
      "<class 'int'>\n",
      "<class 'int'>\n"
     ]
    }
   ],
   "source": [
    "x = 1\n",
    "y = 35656222554887711\n",
    "z = -3255522\n",
    "\n",
    "print(type(x))\n",
    "print(type(y))\n",
    "print(type(z))"
   ]
  },
  {
   "cell_type": "code",
   "execution_count": 141,
   "metadata": {
    "colab": {
     "base_uri": "https://localhost:8080/"
    },
    "id": "x0q8ehIzfU4J",
    "outputId": "4c9fe281-2bac-4419-aed2-3852714b6d69"
   },
   "outputs": [
    {
     "name": "stdout",
     "output_type": "stream",
     "text": [
      "<class 'float'>\n",
      "<class 'float'>\n",
      "<class 'float'>\n"
     ]
    }
   ],
   "source": [
    "x = 1.10\n",
    "y = 1.0\n",
    "z = -35.59\n",
    "\n",
    "print(type(x))\n",
    "print(type(y))\n",
    "print(type(z))"
   ]
  },
  {
   "cell_type": "markdown",
   "metadata": {
    "id": "Nok1Bb37fU4M"
   },
   "source": [
    "Float também pode ser um número científico com um \"e\" para indicar a potência de 10."
   ]
  },
  {
   "cell_type": "code",
   "execution_count": 151,
   "metadata": {
    "colab": {
     "base_uri": "https://localhost:8080/"
    },
    "id": "aGgJFa9gfU4N",
    "outputId": "dd171c65-01fc-4fb5-d8d9-02079be3d109"
   },
   "outputs": [
    {
     "name": "stdout",
     "output_type": "stream",
     "text": [
      "<class 'float'>\n",
      "<class 'float'>\n",
      "<class 'float'>\n"
     ]
    }
   ],
   "source": [
    "x = 35e-28\n",
    "y = 12E4\n",
    "z = -87.7e100\n",
    "\n",
    "print(type(x))\n",
    "print(type(y))\n",
    "print(type(z))"
   ]
  },
  {
   "cell_type": "code",
   "execution_count": 152,
   "metadata": {},
   "outputs": [
    {
     "name": "stdout",
     "output_type": "stream",
     "text": [
      "3.5e-27\n",
      "120000.0\n",
      "-8.77e+101\n"
     ]
    }
   ],
   "source": [
    "print(x)\n",
    "print(y)\n",
    "print(z)"
   ]
  },
  {
   "cell_type": "markdown",
   "metadata": {
    "id": "8GuaNjUqfU4Q"
   },
   "source": [
    "Números complexos são escritos com um \"j\" como a parte imaginária:"
   ]
  },
  {
   "cell_type": "code",
   "execution_count": 153,
   "metadata": {
    "colab": {
     "base_uri": "https://localhost:8080/"
    },
    "id": "kty285cZfU4Q",
    "outputId": "8d0b87df-5f72-4ad2-a8a0-129995d1e7cf"
   },
   "outputs": [
    {
     "name": "stdout",
     "output_type": "stream",
     "text": [
      "<class 'complex'>\n",
      "<class 'complex'>\n",
      "<class 'complex'>\n"
     ]
    }
   ],
   "source": [
    "x = 3+5j\n",
    "y = 5j\n",
    "z = -5j\n",
    "\n",
    "print(type(x))\n",
    "print(type(y))\n",
    "print(type(z))"
   ]
  },
  {
   "cell_type": "markdown",
   "metadata": {
    "id": "z5eoRJiDfU4T"
   },
   "source": [
    "Você pode converter de um tipo para outro com os métodos ```int()```, ```float()``` e ```complex()```:"
   ]
  },
  {
   "cell_type": "code",
   "execution_count": 157,
   "metadata": {
    "colab": {
     "base_uri": "https://localhost:8080/"
    },
    "id": "zha6oTfcfU4U",
    "outputId": "c36bc897-901c-41b6-8085-dadf3dea4d03"
   },
   "outputs": [
    {
     "ename": "SyntaxError",
     "evalue": "invalid decimal literal (688021731.py, line 2)",
     "output_type": "error",
     "traceback": [
      "  \u001b[36mCell\u001b[39m\u001b[36m \u001b[39m\u001b[32mIn[157]\u001b[39m\u001b[32m, line 2\u001b[39m\n\u001b[31m    \u001b[39m\u001b[31my =  12e+24e#2.8 # float\u001b[39m\n              ^\n\u001b[31mSyntaxError\u001b[39m\u001b[31m:\u001b[39m invalid decimal literal\n"
     ]
    }
   ],
   "source": [
    "x = 1 # int\n",
    "y =  12e+24 #2.8 # float\n",
    "z = 1j # complex\n",
    "\n",
    "#convert from int to float:\n",
    "a = float(x)\n",
    "\n",
    "#convert from float to int:\n",
    "b = int(y)\n",
    "\n",
    "#convert from int to complex:\n",
    "c = complex(x)\n",
    "\n",
    "print(a)\n",
    "print(b)\n",
    "print(c)\n",
    "\n",
    "print(type(a))\n",
    "print(type(b))\n",
    "print(type(c))"
   ]
  },
  {
   "cell_type": "code",
   "execution_count": 158,
   "metadata": {
    "colab": {
     "base_uri": "https://localhost:8080/"
    },
    "id": "yLTl2pIgfU4X",
    "outputId": "a7eee6b2-a193-4715-f314-49a5f290945b"
   },
   "outputs": [
    {
     "name": "stdout",
     "output_type": "stream",
     "text": [
      "a10\n"
     ]
    }
   ],
   "source": [
    "a = 10\n",
    "print('a'+str(a))"
   ]
  },
  {
   "cell_type": "markdown",
   "metadata": {
    "id": "mS2ybjycfU4a"
   },
   "source": [
    "O Python não possui uma função ```random()``` para fazer um número aleatório, mas possui um módulo interno chamado random que pode ser usado para fazer números aleatórios:"
   ]
  },
  {
   "cell_type": "code",
   "execution_count": 369,
   "metadata": {
    "colab": {
     "base_uri": "https://localhost:8080/"
    },
    "id": "xjhmZsjLfU4a",
    "outputId": "884b7d89-50d9-4c32-d3ba-7f5a21887d9b"
   },
   "outputs": [
    {
     "name": "stdout",
     "output_type": "stream",
     "text": [
      "5\n"
     ]
    }
   ],
   "source": [
    "import random\n",
    "print(random.randrange(5,10,3))"
   ]
  },
  {
   "cell_type": "code",
   "execution_count": 185,
   "metadata": {},
   "outputs": [
    {
     "name": "stdout",
     "output_type": "stream",
     "text": [
      "Help on method randrange in module random:\n",
      "\n",
      "randrange(start, stop=None, step=1) method of random.Random instance\n",
      "    Choose a random item from range(stop) or range(start, stop[, step]).\n",
      "    \n",
      "    Roughly equivalent to ``choice(range(start, stop, step))`` but\n",
      "    supports arbitrarily large ranges and is optimized for common cases.\n",
      "\n"
     ]
    }
   ],
   "source": [
    "help(random.randrange)"
   ]
  },
  {
   "cell_type": "markdown",
   "metadata": {
    "id": "DzYYU3F2fU4d"
   },
   "source": [
    "Pode haver momentos em que você deseja especificar um tipo em uma variável. Isso pode ser feito com um conjuntos de funções de type casting (mudança de tipos). O Python é uma linguagem orientada a objetos e, como tal, usa classes para definir tipos de dados, incluindo seus tipos primitivos. <br>\n",
    "\n",
    "Casting em python é feito usando funções de construtor: <br>\n",
    "\n",
    "```int()``` - constrói um número inteiro a partir de um literal inteiro, um literal float (arredondando para baixo para o número inteiro anterior), ou uma string (fornecendo a string representa um número inteiro) <br>\n",
    "```float()``` - constrói um número float a partir de um literal inteiro, um literal float ou um literal string (desde que a string represente um float ou um inteiro)<br>\n",
    "```str()``` - constrói uma string a partir de uma ampla variedade de tipos de dados, incluindo strings, literais de inteiros e literais de float"
   ]
  },
  {
   "cell_type": "code",
   "execution_count": 302,
   "metadata": {},
   "outputs": [],
   "source": [
    "a = 0x0b"
   ]
  },
  {
   "cell_type": "code",
   "execution_count": 303,
   "metadata": {},
   "outputs": [
    {
     "name": "stdout",
     "output_type": "stream",
     "text": [
      "11\n"
     ]
    }
   ],
   "source": [
    "print(a)"
   ]
  },
  {
   "cell_type": "code",
   "execution_count": 311,
   "metadata": {},
   "outputs": [
    {
     "ename": "ValueError",
     "evalue": "could not convert string to float: '0xa'",
     "output_type": "error",
     "traceback": [
      "\u001b[31m---------------------------------------------------------------------------\u001b[39m",
      "\u001b[31mValueError\u001b[39m                                Traceback (most recent call last)",
      "\u001b[36mCell\u001b[39m\u001b[36m \u001b[39m\u001b[32mIn[311]\u001b[39m\u001b[32m, line 2\u001b[39m\n\u001b[32m      1\u001b[39m a = \u001b[32m10\u001b[39m\n\u001b[32m----> \u001b[39m\u001b[32m2\u001b[39m \u001b[38;5;28;43mfloat\u001b[39;49m\u001b[43m(\u001b[49m\u001b[43m(\u001b[49m\u001b[38;5;28;43mhex\u001b[39;49m\u001b[43m(\u001b[49m\u001b[43ma\u001b[49m\u001b[43m)\u001b[49m\u001b[43m)\u001b[49m\u001b[43m)\u001b[49m\n",
      "\u001b[31mValueError\u001b[39m: could not convert string to float: '0xa'"
     ]
    }
   ],
   "source": [
    "a = 10\n",
    "float((hex(a)))"
   ]
  },
  {
   "cell_type": "code",
   "execution_count": null,
   "metadata": {},
   "outputs": [],
   "source": []
  },
  {
   "cell_type": "code",
   "execution_count": 308,
   "metadata": {
    "colab": {
     "base_uri": "https://localhost:8080/"
    },
    "id": "haAUiUoNfU4e",
    "outputId": "7cc0dada-4677-4784-bcb5-490f291386ab"
   },
   "outputs": [
    {
     "name": "stdout",
     "output_type": "stream",
     "text": [
      "1\n",
      "2\n",
      "1\n",
      "<class 'int'>\n",
      "<class 'int'>\n",
      "<class 'int'>\n"
     ]
    }
   ],
   "source": [
    "x = int(1)   # x will be 1\n",
    "y = int(2.8) # y will be 2\n",
    "z = int(\"1\") # z will be 3\n",
    "\n",
    "print(x)\n",
    "print(y)\n",
    "print(z)\n",
    "\n",
    "print(type(x))\n",
    "print(type(y))\n",
    "print(type(z))"
   ]
  },
  {
   "cell_type": "code",
   "execution_count": 312,
   "metadata": {
    "colab": {
     "base_uri": "https://localhost:8080/"
    },
    "id": "--P9IWQsfU4i",
    "outputId": "d63fccd7-b64c-4ad0-856b-0a1f106b231f"
   },
   "outputs": [
    {
     "name": "stdout",
     "output_type": "stream",
     "text": [
      "(10+1j)\n"
     ]
    }
   ],
   "source": [
    "a = '10+1j'\n",
    "print(complex(a))"
   ]
  },
  {
   "cell_type": "code",
   "execution_count": 317,
   "metadata": {
    "colab": {
     "base_uri": "https://localhost:8080/"
    },
    "id": "krCCdc9HfU4l",
    "outputId": "370caa1c-715b-41a5-81ca-4c470fd15908"
   },
   "outputs": [
    {
     "name": "stdout",
     "output_type": "stream",
     "text": [
      "1.0\n",
      "2.8\n",
      "3.0\n",
      "4.2\n",
      "<class 'float'>\n",
      "<class 'float'>\n",
      "<class 'float'>\n",
      "<class 'float'>\n"
     ]
    }
   ],
   "source": [
    "x = float(1)     # x will be 1.0\n",
    "y = float(2.8)   # y will be 2.8\n",
    "z = float(\"3\")   # z will be 3.0\n",
    "w = float(\"4.2\") # w will be 4.2\n",
    "\n",
    "print(x)\n",
    "print(y)\n",
    "print(z)\n",
    "print(w)\n",
    "\n",
    "print(type(x))\n",
    "print(type(y))\n",
    "print(type(z))\n",
    "print(type(w))"
   ]
  },
  {
   "cell_type": "code",
   "execution_count": 318,
   "metadata": {
    "colab": {
     "base_uri": "https://localhost:8080/"
    },
    "id": "tHe7vP0AfU4n",
    "outputId": "6ca352ef-ac63-4bc9-9ded-17164ed75fea"
   },
   "outputs": [
    {
     "name": "stdout",
     "output_type": "stream",
     "text": [
      "s1\n",
      "2\n",
      "3.0\n",
      "<class 'str'>\n",
      "<class 'str'>\n",
      "<class 'str'>\n"
     ]
    }
   ],
   "source": [
    "x = str(\"s1\") # x will be 's1'\n",
    "y = str(2)    # y will be '2'\n",
    "z = str(3.0)  # z will be '3.0'\n",
    "\n",
    "print(x)\n",
    "print(y)\n",
    "print(z)\n",
    "\n",
    "print(type(x))\n",
    "print(type(y))\n",
    "print(type(z))"
   ]
  },
  {
   "cell_type": "markdown",
   "metadata": {
    "id": "cSYsaWcsfU4q"
   },
   "source": [
    "# Strings em Python\n"
   ]
  },
  {
   "cell_type": "code",
   "execution_count": 1,
   "metadata": {
    "colab": {
     "base_uri": "https://localhost:8080/"
    },
    "id": "VpSGbkItfU4r",
    "outputId": "6e83ca83-8a3d-4ce8-cc9a-37b5e230180f"
   },
   "outputs": [
    {
     "name": "stdout",
     "output_type": "stream",
     "text": [
      "Lorem ipsum dolor sit amet,\n",
      "consectetur adipiscing elit,\n",
      "sed do eiusmod tempor incididunt\n",
      "ut labore et dolore magna aliqua.\n"
     ]
    }
   ],
   "source": [
    "a = \"\"\"Lorem ipsum dolor sit amet,\n",
    "consectetur adipiscing elit,\n",
    "sed do eiusmod tempor incididunt\n",
    "ut labore et dolore magna aliqua.\"\"\"\n",
    "print(a)"
   ]
  },
  {
   "cell_type": "code",
   "execution_count": null,
   "metadata": {
    "colab": {
     "base_uri": "https://localhost:8080/"
    },
    "id": "YfdiTlKWfU4t",
    "outputId": "3512866f-1595-415a-d791-357dbf674c80"
   },
   "outputs": [
    {
     "name": "stdout",
     "output_type": "stream",
     "text": [
      "Lorem ipsum dolor sit amet,\n",
      "consectetur adipiscing elit,\n",
      "sed do eiusmod tempor incididunt\n",
      "ut labore et dolore magna aliqua.\n"
     ]
    }
   ],
   "source": [
    "a = '''Lorem ipsum dolor sit amet,\n",
    "consectetur adipiscing elit,\n",
    "sed do eiusmod tempor incididunt\n",
    "ut labore et dolore magna aliqua.'''\n",
    "print(a)"
   ]
  },
  {
   "cell_type": "code",
   "execution_count": 4,
   "metadata": {},
   "outputs": [
    {
     "name": "stdout",
     "output_type": "stream",
     "text": [
      "Lorem ipsum dolor sit amet,\n",
      "consectetur adipiscing elit,\n",
      "sed do eiusmod tempor incididunt\n",
      "ut labore et dolore magna aliqua.\n"
     ]
    }
   ],
   "source": [
    "string_grande = '''Lorem ipsum dolor sit amet,\n",
    "consectetur adipiscing elit,\n",
    "sed do eiusmod tempor incididunt\n",
    "ut labore et dolore magna aliqua.'''\n",
    "print(string_grande)"
   ]
  },
  {
   "cell_type": "code",
   "execution_count": 33,
   "metadata": {},
   "outputs": [
    {
     "name": "stdout",
     "output_type": "stream",
     "text": [
      "     Qual Cisne Branco \n",
      "que em noite de lua, \n",
      "vai deslizando num lago azul,\n",
      "O meu navio também flutua,\n",
      "Nos verdes mares de Norte a Sul.      \n",
      "\n"
     ]
    }
   ],
   "source": [
    "cisne_branco = '''\\n     Qual Cisne Branco \n",
    "que em noite de lua, \n",
    "vai deslizando num lago azul,\n",
    "O meu navio também flutua,\n",
    "Nos verdes mares de Norte a Sul.      \n",
    "'''\n",
    "print(cisne_branco)"
   ]
  },
  {
   "cell_type": "code",
   "execution_count": 19,
   "metadata": {},
   "outputs": [
    {
     "data": {
      "text/plain": [
       "131"
      ]
     },
     "execution_count": 19,
     "metadata": {},
     "output_type": "execute_result"
    }
   ],
   "source": [
    "len(string_grande)"
   ]
  },
  {
   "cell_type": "code",
   "execution_count": 25,
   "metadata": {},
   "outputs": [
    {
     "name": "stdout",
     "output_type": "stream",
     "text": [
      "Qual Cisne Branco \n",
      "que em noite de lua, vai deslizando num lago azul,O meu navio também flutua,Nos verdes mares de Norte a Sul.\n",
      "\n"
     ]
    }
   ],
   "source": [
    "string_grande = '''Qual Cisne Branco \\nque em noite de lua, vai deslizando num lago azul,O meu navio também flutua,Nos verdes mares de Norte a Sul.\n",
    "'''\n",
    "print(string_grande)"
   ]
  },
  {
   "cell_type": "code",
   "execution_count": 28,
   "metadata": {},
   "outputs": [
    {
     "data": {
      "text/plain": [
       "131"
      ]
     },
     "execution_count": 28,
     "metadata": {},
     "output_type": "execute_result"
    }
   ],
   "source": [
    "len(string_grande)"
   ]
  },
  {
   "cell_type": "code",
   "execution_count": null,
   "metadata": {},
   "outputs": [],
   "source": []
  },
  {
   "cell_type": "markdown",
   "metadata": {
    "id": "vIX-Kw0qfU40"
   },
   "source": [
    "## Strings são Arrays\n",
    "Como muitas outras linguagens de programação populares, as strings no Python são vectores de bytes representando caracteres de forma ordenada.\n",
    "\n",
    "No entanto, o Python não tem um tipo de dados de caractere, um único caractere é simplesmente uma string com um comprimento de 1. Os colchetes podem ser usados para acessar elementos da string."
   ]
  },
  {
   "cell_type": "code",
   "execution_count": 3,
   "metadata": {
    "colab": {
     "base_uri": "https://localhost:8080/"
    },
    "id": "8a3CAFtwfU40",
    "outputId": "f4729d45-5c40-4fa7-99ea-e27730ea26d8"
   },
   "outputs": [
    {
     "name": "stdout",
     "output_type": "stream",
     "text": [
      "H d\n",
      "ello,\n"
     ]
    }
   ],
   "source": [
    "a = \"Hello, World!\"\n",
    "print(a[0],a[-2])\n",
    "print(a[1:6])"
   ]
  },
  {
   "cell_type": "code",
   "execution_count": 30,
   "metadata": {
    "scrolled": true
   },
   "outputs": [
    {
     "name": "stdout",
     "output_type": "stream",
     "text": [
      "Help on class str in module builtins:\n",
      "\n",
      "class str(object)\n",
      " |  str(object='') -> str\n",
      " |  str(bytes_or_buffer[, encoding[, errors]]) -> str\n",
      " |  \n",
      " |  Create a new string object from the given object. If encoding or\n",
      " |  errors is specified, then the object must expose a data buffer\n",
      " |  that will be decoded using the given encoding and error handler.\n",
      " |  Otherwise, returns the result of object.__str__() (if defined)\n",
      " |  or repr(object).\n",
      " |  encoding defaults to sys.getdefaultencoding().\n",
      " |  errors defaults to 'strict'.\n",
      " |  \n",
      " |  Methods defined here:\n",
      " |  \n",
      " |  __add__(self, value, /)\n",
      " |      Return self+value.\n",
      " |  \n",
      " |  __contains__(self, key, /)\n",
      " |      Return key in self.\n",
      " |  \n",
      " |  __eq__(self, value, /)\n",
      " |      Return self==value.\n",
      " |  \n",
      " |  __format__(self, format_spec, /)\n",
      " |      Return a formatted version of the string as described by format_spec.\n",
      " |  \n",
      " |  __ge__(self, value, /)\n",
      " |      Return self>=value.\n",
      " |  \n",
      " |  __getattribute__(self, name, /)\n",
      " |      Return getattr(self, name).\n",
      " |  \n",
      " |  __getitem__(self, key, /)\n",
      " |      Return self[key].\n",
      " |  \n",
      " |  __getnewargs__(...)\n",
      " |  \n",
      " |  __gt__(self, value, /)\n",
      " |      Return self>value.\n",
      " |  \n",
      " |  __hash__(self, /)\n",
      " |      Return hash(self).\n",
      " |  \n",
      " |  __iter__(self, /)\n",
      " |      Implement iter(self).\n",
      " |  \n",
      " |  __le__(self, value, /)\n",
      " |      Return self<=value.\n",
      " |  \n",
      " |  __len__(self, /)\n",
      " |      Return len(self).\n",
      " |  \n",
      " |  __lt__(self, value, /)\n",
      " |      Return self<value.\n",
      " |  \n",
      " |  __mod__(self, value, /)\n",
      " |      Return self%value.\n",
      " |  \n",
      " |  __mul__(self, value, /)\n",
      " |      Return self*value.\n",
      " |  \n",
      " |  __ne__(self, value, /)\n",
      " |      Return self!=value.\n",
      " |  \n",
      " |  __repr__(self, /)\n",
      " |      Return repr(self).\n",
      " |  \n",
      " |  __rmod__(self, value, /)\n",
      " |      Return value%self.\n",
      " |  \n",
      " |  __rmul__(self, value, /)\n",
      " |      Return value*self.\n",
      " |  \n",
      " |  __sizeof__(self, /)\n",
      " |      Return the size of the string in memory, in bytes.\n",
      " |  \n",
      " |  __str__(self, /)\n",
      " |      Return str(self).\n",
      " |  \n",
      " |  capitalize(self, /)\n",
      " |      Return a capitalized version of the string.\n",
      " |      \n",
      " |      More specifically, make the first character have upper case and the rest lower\n",
      " |      case.\n",
      " |  \n",
      " |  casefold(self, /)\n",
      " |      Return a version of the string suitable for caseless comparisons.\n",
      " |  \n",
      " |  center(self, width, fillchar=' ', /)\n",
      " |      Return a centered string of length width.\n",
      " |      \n",
      " |      Padding is done using the specified fill character (default is a space).\n",
      " |  \n",
      " |  count(...)\n",
      " |      S.count(sub[, start[, end]]) -> int\n",
      " |      \n",
      " |      Return the number of non-overlapping occurrences of substring sub in\n",
      " |      string S[start:end].  Optional arguments start and end are\n",
      " |      interpreted as in slice notation.\n",
      " |  \n",
      " |  encode(self, /, encoding='utf-8', errors='strict')\n",
      " |      Encode the string using the codec registered for encoding.\n",
      " |      \n",
      " |      encoding\n",
      " |        The encoding in which to encode the string.\n",
      " |      errors\n",
      " |        The error handling scheme to use for encoding errors.\n",
      " |        The default is 'strict' meaning that encoding errors raise a\n",
      " |        UnicodeEncodeError.  Other possible values are 'ignore', 'replace' and\n",
      " |        'xmlcharrefreplace' as well as any other name registered with\n",
      " |        codecs.register_error that can handle UnicodeEncodeErrors.\n",
      " |  \n",
      " |  endswith(...)\n",
      " |      S.endswith(suffix[, start[, end]]) -> bool\n",
      " |      \n",
      " |      Return True if S ends with the specified suffix, False otherwise.\n",
      " |      With optional start, test S beginning at that position.\n",
      " |      With optional end, stop comparing S at that position.\n",
      " |      suffix can also be a tuple of strings to try.\n",
      " |  \n",
      " |  expandtabs(self, /, tabsize=8)\n",
      " |      Return a copy where all tab characters are expanded using spaces.\n",
      " |      \n",
      " |      If tabsize is not given, a tab size of 8 characters is assumed.\n",
      " |  \n",
      " |  find(...)\n",
      " |      S.find(sub[, start[, end]]) -> int\n",
      " |      \n",
      " |      Return the lowest index in S where substring sub is found,\n",
      " |      such that sub is contained within S[start:end].  Optional\n",
      " |      arguments start and end are interpreted as in slice notation.\n",
      " |      \n",
      " |      Return -1 on failure.\n",
      " |  \n",
      " |  format(...)\n",
      " |      S.format(*args, **kwargs) -> str\n",
      " |      \n",
      " |      Return a formatted version of S, using substitutions from args and kwargs.\n",
      " |      The substitutions are identified by braces ('{' and '}').\n",
      " |  \n",
      " |  format_map(...)\n",
      " |      S.format_map(mapping) -> str\n",
      " |      \n",
      " |      Return a formatted version of S, using substitutions from mapping.\n",
      " |      The substitutions are identified by braces ('{' and '}').\n",
      " |  \n",
      " |  index(...)\n",
      " |      S.index(sub[, start[, end]]) -> int\n",
      " |      \n",
      " |      Return the lowest index in S where substring sub is found,\n",
      " |      such that sub is contained within S[start:end].  Optional\n",
      " |      arguments start and end are interpreted as in slice notation.\n",
      " |      \n",
      " |      Raises ValueError when the substring is not found.\n",
      " |  \n",
      " |  isalnum(self, /)\n",
      " |      Return True if the string is an alpha-numeric string, False otherwise.\n",
      " |      \n",
      " |      A string is alpha-numeric if all characters in the string are alpha-numeric and\n",
      " |      there is at least one character in the string.\n",
      " |  \n",
      " |  isalpha(self, /)\n",
      " |      Return True if the string is an alphabetic string, False otherwise.\n",
      " |      \n",
      " |      A string is alphabetic if all characters in the string are alphabetic and there\n",
      " |      is at least one character in the string.\n",
      " |  \n",
      " |  isascii(self, /)\n",
      " |      Return True if all characters in the string are ASCII, False otherwise.\n",
      " |      \n",
      " |      ASCII characters have code points in the range U+0000-U+007F.\n",
      " |      Empty string is ASCII too.\n",
      " |  \n",
      " |  isdecimal(self, /)\n",
      " |      Return True if the string is a decimal string, False otherwise.\n",
      " |      \n",
      " |      A string is a decimal string if all characters in the string are decimal and\n",
      " |      there is at least one character in the string.\n",
      " |  \n",
      " |  isdigit(self, /)\n",
      " |      Return True if the string is a digit string, False otherwise.\n",
      " |      \n",
      " |      A string is a digit string if all characters in the string are digits and there\n",
      " |      is at least one character in the string.\n",
      " |  \n",
      " |  isidentifier(self, /)\n",
      " |      Return True if the string is a valid Python identifier, False otherwise.\n",
      " |      \n",
      " |      Call keyword.iskeyword(s) to test whether string s is a reserved identifier,\n",
      " |      such as \"def\" or \"class\".\n",
      " |  \n",
      " |  islower(self, /)\n",
      " |      Return True if the string is a lowercase string, False otherwise.\n",
      " |      \n",
      " |      A string is lowercase if all cased characters in the string are lowercase and\n",
      " |      there is at least one cased character in the string.\n",
      " |  \n",
      " |  isnumeric(self, /)\n",
      " |      Return True if the string is a numeric string, False otherwise.\n",
      " |      \n",
      " |      A string is numeric if all characters in the string are numeric and there is at\n",
      " |      least one character in the string.\n",
      " |  \n",
      " |  isprintable(self, /)\n",
      " |      Return True if the string is printable, False otherwise.\n",
      " |      \n",
      " |      A string is printable if all of its characters are considered printable in\n",
      " |      repr() or if it is empty.\n",
      " |  \n",
      " |  isspace(self, /)\n",
      " |      Return True if the string is a whitespace string, False otherwise.\n",
      " |      \n",
      " |      A string is whitespace if all characters in the string are whitespace and there\n",
      " |      is at least one character in the string.\n",
      " |  \n",
      " |  istitle(self, /)\n",
      " |      Return True if the string is a title-cased string, False otherwise.\n",
      " |      \n",
      " |      In a title-cased string, upper- and title-case characters may only\n",
      " |      follow uncased characters and lowercase characters only cased ones.\n",
      " |  \n",
      " |  isupper(self, /)\n",
      " |      Return True if the string is an uppercase string, False otherwise.\n",
      " |      \n",
      " |      A string is uppercase if all cased characters in the string are uppercase and\n",
      " |      there is at least one cased character in the string.\n",
      " |  \n",
      " |  join(self, iterable, /)\n",
      " |      Concatenate any number of strings.\n",
      " |      \n",
      " |      The string whose method is called is inserted in between each given string.\n",
      " |      The result is returned as a new string.\n",
      " |      \n",
      " |      Example: '.'.join(['ab', 'pq', 'rs']) -> 'ab.pq.rs'\n",
      " |  \n",
      " |  ljust(self, width, fillchar=' ', /)\n",
      " |      Return a left-justified string of length width.\n",
      " |      \n",
      " |      Padding is done using the specified fill character (default is a space).\n",
      " |  \n",
      " |  lower(self, /)\n",
      " |      Return a copy of the string converted to lowercase.\n",
      " |  \n",
      " |  lstrip(self, chars=None, /)\n",
      " |      Return a copy of the string with leading whitespace removed.\n",
      " |      \n",
      " |      If chars is given and not None, remove characters in chars instead.\n",
      " |  \n",
      " |  partition(self, sep, /)\n",
      " |      Partition the string into three parts using the given separator.\n",
      " |      \n",
      " |      This will search for the separator in the string.  If the separator is found,\n",
      " |      returns a 3-tuple containing the part before the separator, the separator\n",
      " |      itself, and the part after it.\n",
      " |      \n",
      " |      If the separator is not found, returns a 3-tuple containing the original string\n",
      " |      and two empty strings.\n",
      " |  \n",
      " |  removeprefix(self, prefix, /)\n",
      " |      Return a str with the given prefix string removed if present.\n",
      " |      \n",
      " |      If the string starts with the prefix string, return string[len(prefix):].\n",
      " |      Otherwise, return a copy of the original string.\n",
      " |  \n",
      " |  removesuffix(self, suffix, /)\n",
      " |      Return a str with the given suffix string removed if present.\n",
      " |      \n",
      " |      If the string ends with the suffix string and that suffix is not empty,\n",
      " |      return string[:-len(suffix)]. Otherwise, return a copy of the original\n",
      " |      string.\n",
      " |  \n",
      " |  replace(self, old, new, count=-1, /)\n",
      " |      Return a copy with all occurrences of substring old replaced by new.\n",
      " |      \n",
      " |        count\n",
      " |          Maximum number of occurrences to replace.\n",
      " |          -1 (the default value) means replace all occurrences.\n",
      " |      \n",
      " |      If the optional argument count is given, only the first count occurrences are\n",
      " |      replaced.\n",
      " |  \n",
      " |  rfind(...)\n",
      " |      S.rfind(sub[, start[, end]]) -> int\n",
      " |      \n",
      " |      Return the highest index in S where substring sub is found,\n",
      " |      such that sub is contained within S[start:end].  Optional\n",
      " |      arguments start and end are interpreted as in slice notation.\n",
      " |      \n",
      " |      Return -1 on failure.\n",
      " |  \n",
      " |  rindex(...)\n",
      " |      S.rindex(sub[, start[, end]]) -> int\n",
      " |      \n",
      " |      Return the highest index in S where substring sub is found,\n",
      " |      such that sub is contained within S[start:end].  Optional\n",
      " |      arguments start and end are interpreted as in slice notation.\n",
      " |      \n",
      " |      Raises ValueError when the substring is not found.\n",
      " |  \n",
      " |  rjust(self, width, fillchar=' ', /)\n",
      " |      Return a right-justified string of length width.\n",
      " |      \n",
      " |      Padding is done using the specified fill character (default is a space).\n",
      " |  \n",
      " |  rpartition(self, sep, /)\n",
      " |      Partition the string into three parts using the given separator.\n",
      " |      \n",
      " |      This will search for the separator in the string, starting at the end. If\n",
      " |      the separator is found, returns a 3-tuple containing the part before the\n",
      " |      separator, the separator itself, and the part after it.\n",
      " |      \n",
      " |      If the separator is not found, returns a 3-tuple containing two empty strings\n",
      " |      and the original string.\n",
      " |  \n",
      " |  rsplit(self, /, sep=None, maxsplit=-1)\n",
      " |      Return a list of the substrings in the string, using sep as the separator string.\n",
      " |      \n",
      " |        sep\n",
      " |          The separator used to split the string.\n",
      " |      \n",
      " |          When set to None (the default value), will split on any whitespace\n",
      " |          character (including \\n \\r \\t \\f and spaces) and will discard\n",
      " |          empty strings from the result.\n",
      " |        maxsplit\n",
      " |          Maximum number of splits.\n",
      " |          -1 (the default value) means no limit.\n",
      " |      \n",
      " |      Splitting starts at the end of the string and works to the front.\n",
      " |  \n",
      " |  rstrip(self, chars=None, /)\n",
      " |      Return a copy of the string with trailing whitespace removed.\n",
      " |      \n",
      " |      If chars is given and not None, remove characters in chars instead.\n",
      " |  \n",
      " |  split(self, /, sep=None, maxsplit=-1)\n",
      " |      Return a list of the substrings in the string, using sep as the separator string.\n",
      " |      \n",
      " |        sep\n",
      " |          The separator used to split the string.\n",
      " |      \n",
      " |          When set to None (the default value), will split on any whitespace\n",
      " |          character (including \\n \\r \\t \\f and spaces) and will discard\n",
      " |          empty strings from the result.\n",
      " |        maxsplit\n",
      " |          Maximum number of splits.\n",
      " |          -1 (the default value) means no limit.\n",
      " |      \n",
      " |      Splitting starts at the front of the string and works to the end.\n",
      " |      \n",
      " |      Note, str.split() is mainly useful for data that has been intentionally\n",
      " |      delimited.  With natural text that includes punctuation, consider using\n",
      " |      the regular expression module.\n",
      " |  \n",
      " |  splitlines(self, /, keepends=False)\n",
      " |      Return a list of the lines in the string, breaking at line boundaries.\n",
      " |      \n",
      " |      Line breaks are not included in the resulting list unless keepends is given and\n",
      " |      true.\n",
      " |  \n",
      " |  startswith(...)\n",
      " |      S.startswith(prefix[, start[, end]]) -> bool\n",
      " |      \n",
      " |      Return True if S starts with the specified prefix, False otherwise.\n",
      " |      With optional start, test S beginning at that position.\n",
      " |      With optional end, stop comparing S at that position.\n",
      " |      prefix can also be a tuple of strings to try.\n",
      " |  \n",
      " |  strip(self, chars=None, /)\n",
      " |      Return a copy of the string with leading and trailing whitespace removed.\n",
      " |      \n",
      " |      If chars is given and not None, remove characters in chars instead.\n",
      " |  \n",
      " |  swapcase(self, /)\n",
      " |      Convert uppercase characters to lowercase and lowercase characters to uppercase.\n",
      " |  \n",
      " |  title(self, /)\n",
      " |      Return a version of the string where each word is titlecased.\n",
      " |      \n",
      " |      More specifically, words start with uppercased characters and all remaining\n",
      " |      cased characters have lower case.\n",
      " |  \n",
      " |  translate(self, table, /)\n",
      " |      Replace each character in the string using the given translation table.\n",
      " |      \n",
      " |        table\n",
      " |          Translation table, which must be a mapping of Unicode ordinals to\n",
      " |          Unicode ordinals, strings, or None.\n",
      " |      \n",
      " |      The table must implement lookup/indexing via __getitem__, for instance a\n",
      " |      dictionary or list.  If this operation raises LookupError, the character is\n",
      " |      left untouched.  Characters mapped to None are deleted.\n",
      " |  \n",
      " |  upper(self, /)\n",
      " |      Return a copy of the string converted to uppercase.\n",
      " |  \n",
      " |  zfill(self, width, /)\n",
      " |      Pad a numeric string with zeros on the left, to fill a field of the given width.\n",
      " |      \n",
      " |      The string is never truncated.\n",
      " |  \n",
      " |  ----------------------------------------------------------------------\n",
      " |  Static methods defined here:\n",
      " |  \n",
      " |  __new__(*args, **kwargs)\n",
      " |      Create and return a new object.  See help(type) for accurate signature.\n",
      " |  \n",
      " |  maketrans(...)\n",
      " |      Return a translation table usable for str.translate().\n",
      " |      \n",
      " |      If there is only one argument, it must be a dictionary mapping Unicode\n",
      " |      ordinals (integers) or characters to Unicode ordinals, strings or None.\n",
      " |      Character keys will be then converted to ordinals.\n",
      " |      If there are two arguments, they must be strings of equal length, and\n",
      " |      in the resulting dictionary, each character in x will be mapped to the\n",
      " |      character at the same position in y. If there is a third argument, it\n",
      " |      must be a string, whose characters will be mapped to None in the result.\n",
      "\n"
     ]
    }
   ],
   "source": [
    "help(type(cisne_branco))"
   ]
  },
  {
   "cell_type": "code",
   "execution_count": 38,
   "metadata": {},
   "outputs": [
    {
     "name": "stdout",
     "output_type": "stream",
     "text": [
      "     Qual Cisne Branco \n",
      "que em noite de lua, \n",
      "vai deslizando num lago azul,\n",
      "O meu navio também flutua,\n",
      "Nos verdes mares de Norte a Sul.      \n",
      "\n",
      "Qual Cisne Branco \n",
      "que em noite de lua, \n",
      "vai deslizando num lago azul,\n",
      "O meu navio também flutua,\n",
      "Nos verdes mares de Norte a Sul.\n"
     ]
    }
   ],
   "source": [
    "print(cisne_branco)\n",
    "print(cisne_branco.strip())"
   ]
  },
  {
   "cell_type": "code",
   "execution_count": 39,
   "metadata": {},
   "outputs": [
    {
     "name": "stdout",
     "output_type": "stream",
     "text": [
      "142\n",
      "130\n"
     ]
    }
   ],
   "source": [
    "print(len(cisne_branco))\n",
    "print(len(cisne_branco.strip()))"
   ]
  },
  {
   "cell_type": "markdown",
   "metadata": {
    "id": "7XwzgGwrfU43"
   },
   "source": [
    "O método ```strip()``` remove qualquer espaço em branco do começo ou do fim da string:"
   ]
  },
  {
   "cell_type": "code",
   "execution_count": 60,
   "metadata": {},
   "outputs": [
    {
     "name": "stdout",
     "output_type": "stream",
     "text": [
      "xxxxxxxxxxxQual Cisne Branco \n",
      "que em noite de lua, \n",
      "vai deslizando num lago azul,\n",
      "O meu navio também flutua,\n",
      "Nos verdes mares de Norte a Sul.xxxxxxxxxxx\n",
      "\n"
     ]
    }
   ],
   "source": [
    "cisne_branco = '''xxxxxxxxxxxQual Cisne Branco \n",
    "que em noite de lua, \n",
    "vai deslizando num lago azul,\n",
    "O meu navio também flutua,\n",
    "Nos verdes mares de Norte a Sul.xxxxxxxxxxx\n",
    "'''\n",
    "print(cisne_branco)"
   ]
  },
  {
   "cell_type": "code",
   "execution_count": 62,
   "metadata": {},
   "outputs": [
    {
     "name": "stdout",
     "output_type": "stream",
     "text": [
      "xxxxxxxxxxxQual Cisne Branco \n",
      "que em noite de lua, \n",
      "vai deslizando num lago azul,\n",
      "O meu navio também flutua,\n",
      "Nos verdes mares de Norte a Sul.xxxxxxxxxxx\n",
      " \n",
      "\n",
      "Qual Cisne Branco \n",
      "que em noite de lua, \n",
      "vai deslizando num lago azul,\n",
      "O meu navio também flutua,\n",
      "Nos verdes mares de Norte a Sul.\n"
     ]
    }
   ],
   "source": [
    "print(cisne_branco, '\\n')\n",
    "print(cisne_branco.strip('\\n xq'))"
   ]
  },
  {
   "cell_type": "code",
   "execution_count": null,
   "metadata": {},
   "outputs": [],
   "source": []
  },
  {
   "cell_type": "code",
   "execution_count": null,
   "metadata": {},
   "outputs": [],
   "source": []
  },
  {
   "cell_type": "code",
   "execution_count": null,
   "metadata": {
    "colab": {
     "base_uri": "https://localhost:8080/"
    },
    "id": "xxgWlTVofU44",
    "outputId": "d1a26ca6-616a-44ad-c8e3-4bf651e0744f"
   },
   "outputs": [
    {
     "name": "stdout",
     "output_type": "stream",
     "text": [
      "Hello, World!\n"
     ]
    }
   ],
   "source": [
    "a = \"     Hello, World! \"\n",
    "print(a.strip()) # returns \"Hello, World!\""
   ]
  },
  {
   "cell_type": "markdown",
   "metadata": {
    "id": "HCQu-VUNfU47"
   },
   "source": [
    "O método ```len()```  retorna o tamanho de uma string:"
   ]
  },
  {
   "cell_type": "code",
   "execution_count": 40,
   "metadata": {
    "colab": {
     "base_uri": "https://localhost:8080/"
    },
    "id": "vUv5olxLfU47",
    "outputId": "95e4d63c-ffd2-4857-8544-08b3048d8fa6"
   },
   "outputs": [
    {
     "name": "stdout",
     "output_type": "stream",
     "text": [
      "13\n"
     ]
    }
   ],
   "source": [
    "a = \"Hello, World!\"\n",
    "print(len(a))"
   ]
  },
  {
   "cell_type": "markdown",
   "metadata": {
    "id": "xXTy-kG9fU4-"
   },
   "source": [
    "O método ```lower()``` retorna a string em letras minúsculas:"
   ]
  },
  {
   "cell_type": "code",
   "execution_count": 41,
   "metadata": {
    "colab": {
     "base_uri": "https://localhost:8080/"
    },
    "id": "ZSigK3dtfU4_",
    "outputId": "8971eb8e-44a4-4ad2-9d41-4425f2e9e83b"
   },
   "outputs": [
    {
     "name": "stdout",
     "output_type": "stream",
     "text": [
      "hello, world!\n"
     ]
    }
   ],
   "source": [
    "a = \"Hello, World!\"\n",
    "print(a.lower())"
   ]
  },
  {
   "cell_type": "code",
   "execution_count": 45,
   "metadata": {},
   "outputs": [
    {
     "name": "stdout",
     "output_type": "stream",
     "text": [
      "     Qual Cisne Branco \n",
      "que em noite de lua, \n",
      "vai deslizando num lago azul,\n",
      "O meu navio também flutua,\n",
      "Nos verdes mares de Norte a Sul.      \n",
      "\n",
      "Qual Cisne Branco \n",
      "Que Em Noite De Lua, \n",
      "Vai Deslizando Num Lago Azul,\n",
      "O Meu Navio Também Flutua,\n",
      "Nos Verdes Mares De Norte A Sul.\n"
     ]
    }
   ],
   "source": [
    "print(cisne_branco)\n",
    "print(cisne_branco.strip().title())"
   ]
  },
  {
   "cell_type": "code",
   "execution_count": 44,
   "metadata": {},
   "outputs": [
    {
     "name": "stdout",
     "output_type": "stream",
     "text": [
      "     Qual Cisne Branco \n",
      "que em noite de lua, \n",
      "vai deslizando num lago azul,\n",
      "O meu navio também flutua,\n",
      "Nos verdes mares de Norte a Sul.      \n",
      "\n",
      "Qual cisne branco \n",
      "que em noite de lua, \n",
      "vai deslizando num lago azul,\n",
      "o meu navio também flutua,\n",
      "nos verdes mares de norte a sul.\n"
     ]
    }
   ],
   "source": [
    "print(cisne_branco)\n",
    "print(cisne_branco.strip().capitalize())"
   ]
  },
  {
   "cell_type": "markdown",
   "metadata": {
    "id": "CAJAsuE7fU5D"
   },
   "source": [
    "O método ```upper()``` retorna a string em letras maiúsculas:"
   ]
  },
  {
   "cell_type": "code",
   "execution_count": null,
   "metadata": {
    "colab": {
     "base_uri": "https://localhost:8080/"
    },
    "id": "Rr3jL8Y3fU5E",
    "outputId": "03d42db9-1042-420c-96c3-3487d1acc29a"
   },
   "outputs": [
    {
     "name": "stdout",
     "output_type": "stream",
     "text": [
      "HELLO, WORLD!\n"
     ]
    }
   ],
   "source": [
    "a = \"Hello, World!\"\n",
    "print(a.upper())"
   ]
  },
  {
   "cell_type": "markdown",
   "metadata": {
    "id": "6EkIx-nefU5H"
   },
   "source": [
    "O método ```capilatize()``` retorna a string com apenas a primeira letra maiúscula:"
   ]
  },
  {
   "cell_type": "code",
   "execution_count": null,
   "metadata": {
    "colab": {
     "base_uri": "https://localhost:8080/"
    },
    "id": "bPKZ0ZSafU5I",
    "outputId": "064d4516-c3ef-4b2e-92b7-41f09ea378b6"
   },
   "outputs": [
    {
     "name": "stdout",
     "output_type": "stream",
     "text": [
      "Hello, world!\n"
     ]
    }
   ],
   "source": [
    "a = \"Hello, World!\"\n",
    "print(a.capitalize())"
   ]
  },
  {
   "cell_type": "markdown",
   "metadata": {
    "id": "gq7M7uwEfU5K"
   },
   "source": [
    "O método ```replace()``` substitui uma string por outra string:"
   ]
  },
  {
   "cell_type": "code",
   "execution_count": 66,
   "metadata": {},
   "outputs": [
    {
     "name": "stdout",
     "output_type": "stream",
     "text": [
      "Help on method_descriptor:\n",
      "\n",
      "replace(self, old, new, count=-1, /) unbound builtins.str method\n",
      "    Return a copy with all occurrences of substring old replaced by new.\n",
      "    \n",
      "      count\n",
      "        Maximum number of occurrences to replace.\n",
      "        -1 (the default value) means replace all occurrences.\n",
      "    \n",
      "    If the optional argument count is given, only the first count occurrences are\n",
      "    replaced.\n",
      "\n"
     ]
    }
   ],
   "source": [
    "help(str.replace)"
   ]
  },
  {
   "cell_type": "code",
   "execution_count": 159,
   "metadata": {
    "colab": {
     "base_uri": "https://localhost:8080/"
    },
    "id": "Na3TlXhHfU5L",
    "outputId": "274d5c19-1332-49a4-8fee-b7d78418b906"
   },
   "outputs": [
    {
     "name": "stdout",
     "output_type": "stream",
     "text": [
      "Hello, World!\n",
      "Jello, World!\n",
      "Bye, World!\n",
      "Jello, World!\n"
     ]
    }
   ],
   "source": [
    "a = \"Hello, World!\"\n",
    "print(a)\n",
    "print(a.replace(\"H\", \"J\"))\n",
    "a_copy = a.replace(\"H\", \"J\")\n",
    "print(a.replace(\"Hello\", \"Bye\"))\n",
    "print(a_copy)"
   ]
  },
  {
   "cell_type": "code",
   "execution_count": 68,
   "metadata": {},
   "outputs": [
    {
     "name": "stdout",
     "output_type": "stream",
     "text": [
      "Qual Cisne Branco \n",
      "que em noite de lua, \n",
      "vai deslizando num lago azul,\n",
      "O meu navio também flutua,\n",
      "Nos verdes mares de Norte a Sul.\n",
      "Cisne Branco belo.\n",
      "Cisne Branco legal.\n",
      "\n"
     ]
    }
   ],
   "source": [
    "cisne_branco = '''Qual Cisne Branco \n",
    "que em noite de lua, \n",
    "vai deslizando num lago azul,\n",
    "O meu navio também flutua,\n",
    "Nos verdes mares de Norte a Sul.\n",
    "Cisne Branco belo.\n",
    "Cisne Branco legal.\n",
    "'''\n",
    "print(cisne_branco)"
   ]
  },
  {
   "cell_type": "code",
   "execution_count": 75,
   "metadata": {},
   "outputs": [
    {
     "name": "stdout",
     "output_type": "stream",
     "text": [
      "Qual Cisne Branco \n",
      "que em noite de lua, \n",
      "vai deslizando num lago azul,\n",
      "O meu navio também flutua,\n",
      "Nos verdes mares de Norte a Sul.\n",
      "Cisne Branco belo.\n",
      "Cisne Branco legal.\n",
      "\n",
      "Qual Patone Branco \n",
      "que em noite de lua, \n",
      "vai deslizando num lago azul,\n",
      "O meu navio também flutua,\n",
      "Nos verdes mares de Norte a Sul.\n",
      "Patone Branco belo.\n",
      "Cisne Branco legal.\n",
      "\n"
     ]
    }
   ],
   "source": [
    "print(cisne_branco)\n",
    "print(cisne_branco.replace(\"Cis\", \"Pato\", 2))"
   ]
  },
  {
   "cell_type": "markdown",
   "metadata": {
    "id": "sy3VOLn8fU5O"
   },
   "source": [
    "O método ```split()``` divide a string em substrings se encontrar instâncias do separador:"
   ]
  },
  {
   "cell_type": "code",
   "execution_count": 76,
   "metadata": {
    "colab": {
     "base_uri": "https://localhost:8080/"
    },
    "id": "nh8z3SUGfU5O",
    "outputId": "41ab3b9e-8f0e-4638-8e8f-0bd5f63d3128"
   },
   "outputs": [
    {
     "name": "stdout",
     "output_type": "stream",
     "text": [
      "['Hello', ' World!']\n"
     ]
    }
   ],
   "source": [
    "a = \"Hello, World!\"\n",
    "print(a.split(\",\")) # returns ['Hello', ' World!']"
   ]
  },
  {
   "cell_type": "code",
   "execution_count": 82,
   "metadata": {},
   "outputs": [
    {
     "name": "stdout",
     "output_type": "stream",
     "text": [
      "Qual Cisne Branco \n",
      "que em noite de lua, \n",
      "vai deslizando num lago azul,\n",
      "O meu navio também flutua,\n",
      "Nos verdes mares de Norte a Sul.\n",
      "Cisne Branco belo.\n",
      "Cisne Branco legal.\n",
      "\n",
      "Qual Cisne Branco \n",
      "que em noite de lua, \n",
      "vai deslizando num \n",
      "\n",
      "\n",
      "O meu navio também flutua,\n",
      "Nos verdes mares de Norte a Sul.\n",
      "Cisne Branco belo.\n",
      "Cisne Branco legal.\n",
      "\n"
     ]
    }
   ],
   "source": [
    "print(cisne_branco)\n",
    "print(cisne_branco.split(\"lago azul,\")[0]) # primeiro elemento\n",
    "print()\n",
    "print(cisne_branco.split(\"lago azul,\")[1]) # segundo elemento"
   ]
  },
  {
   "cell_type": "code",
   "execution_count": 84,
   "metadata": {},
   "outputs": [
    {
     "name": "stdout",
     "output_type": "stream",
     "text": [
      "Help on method_descriptor:\n",
      "\n",
      "split(self, /, sep=None, maxsplit=-1) unbound builtins.str method\n",
      "    Return a list of the substrings in the string, using sep as the separator string.\n",
      "    \n",
      "      sep\n",
      "        The separator used to split the string.\n",
      "    \n",
      "        When set to None (the default value), will split on any whitespace\n",
      "        character (including \\n \\r \\t \\f and spaces) and will discard\n",
      "        empty strings from the result.\n",
      "      maxsplit\n",
      "        Maximum number of splits.\n",
      "        -1 (the default value) means no limit.\n",
      "    \n",
      "    Splitting starts at the front of the string and works to the end.\n",
      "    \n",
      "    Note, str.split() is mainly useful for data that has been intentionally\n",
      "    delimited.  With natural text that includes punctuation, consider using\n",
      "    the regular expression module.\n",
      "\n"
     ]
    }
   ],
   "source": [
    "help(str.split)"
   ]
  },
  {
   "cell_type": "code",
   "execution_count": 83,
   "metadata": {},
   "outputs": [
    {
     "name": "stdout",
     "output_type": "stream",
     "text": [
      "['Qual Cisne Branco \\nque em noite de lua, \\nvai deslizando num ', '\\nO meu navio também flutua,\\nNos verdes mares de Norte a Sul.\\nCisne Branco belo.\\nCisne Branco legal.\\n']\n"
     ]
    }
   ],
   "source": [
    "print(cisne_branco.split(\"lago azul,\")) # imprime o vetor criado!"
   ]
  },
  {
   "cell_type": "code",
   "execution_count": 88,
   "metadata": {},
   "outputs": [
    {
     "name": "stdout",
     "output_type": "stream",
     "text": [
      "[' Branco \\n', ' em noite de lua, \\nvai deslizando num lago azul,\\nO meu navio também flutua,\\nNos verdes mares de Norte a Sul.\\n']\n"
     ]
    }
   ],
   "source": [
    "print(cisne_branco.split('Cisne')[1].split(\"que\")) #"
   ]
  },
  {
   "cell_type": "markdown",
   "metadata": {
    "id": "yiLdLRldfU5R"
   },
   "source": [
    "Use o método ```format()``` para inserir números em strings:"
   ]
  },
  {
   "cell_type": "code",
   "execution_count": 90,
   "metadata": {
    "colab": {
     "base_uri": "https://localhost:8080/"
    },
    "id": "oQusWmkvfU5S",
    "outputId": "f35d3bea-e58b-4309-e330-faa42a4dfe97"
   },
   "outputs": [
    {
     "name": "stdout",
     "output_type": "stream",
     "text": [
      "My name is John, and I am 37\n"
     ]
    }
   ],
   "source": [
    "age = 37\n",
    "txt = \"My name is John, and I am {}\"\n",
    "print(txt.format(age))"
   ]
  },
  {
   "cell_type": "markdown",
   "metadata": {},
   "source": [
    "Vou fazer um exemplo de um aluno chamado Joãozinho que tirou 8 na primeira prova e 9 na segunda. Faça a média aritmética e imprima em tela."
   ]
  },
  {
   "cell_type": "code",
   "execution_count": 93,
   "metadata": {},
   "outputs": [
    {
     "name": "stdout",
     "output_type": "stream",
     "text": [
      "Meu nome é Marcelinho e tenho média 8.0\n"
     ]
    }
   ],
   "source": [
    "nome = 'Marcelinho'\n",
    "nota_p1 = 7\n",
    "nota_p2 = 9\n",
    "media_provas = (nota_p1+ nota_p2)/2\n",
    "mensagem_tela = \"Meu nome é {} e tenho média {}\"\n",
    "print(mensagem_tela.format(nome,media_provas))"
   ]
  },
  {
   "cell_type": "code",
   "execution_count": 146,
   "metadata": {},
   "outputs": [],
   "source": [
    "def imprime_boletim(nome='', \n",
    "                    nip='99.9999.99', \n",
    "                    codigo_materia_1='RAP', \n",
    "                    nome_materia_1='Revisão Acelerada de Programação', \n",
    "                    nota_materia_1=10, \n",
    "                    codigo_materia_2='PSI',\n",
    "                    nome_materia_2='Processamento de Sinais em Imagens',\n",
    "                    nota_materia_2=10\n",
    "                   ):\n",
    "    '''\n",
    "        A função vai receber os argumentos nome, nip (número de inscrição pessoal), \n",
    "        código, nome e nota de duas matérias e retornar uma string para imprimir em tela.\n",
    "\n",
    "        Obs: NIP tem formato XX.XXXX.XX\n",
    "    '''\n",
    "    str_retorno = \"\\t \\t BOLETIM \\t\\t \\n\"\n",
    "    str_retorno += \"Nome: %s\\n\"%(nome)\n",
    "    str_retorno += \"NIP: %s\\n\"%(nip)\n",
    "    str_retorno += \"Notas \\n\"\n",
    "    str_retorno += \"{} \\t -- \\t {:<} \\t\\t\\t\\t\\t -- {:<}\\n\".format('COD', 'NOME', 'NOTA')\n",
    "    str_retorno += \"{} \\t -- \\t {:<} \\t -- {:<}\\n\".format(codigo_materia_1, nome_materia_1, nota_materia_1)\n",
    "    str_retorno += \"{} \\t -- \\t {:<} \\t -- {}\\n\".format(codigo_materia_2, nome_materia_2, nota_materia_2)\n",
    "    \n",
    "    return str_retorno \n"
   ]
  },
  {
   "cell_type": "code",
   "execution_count": 148,
   "metadata": {},
   "outputs": [
    {
     "name": "stdout",
     "output_type": "stream",
     "text": [
      "\t \t BOLETIM \t\t \n",
      "Nome: Joãozinho\n",
      "NIP: 12.3456.78\n",
      "Notas \n",
      "COD \t -- \t NOME \t\t\t\t\t -- NOTA\n",
      "RAP \t -- \t Revisão Acelerada de Programação \t -- 10\n",
      "PSI \t -- \t Processamento de Sinais em Imagens \t -- 10\n",
      "\n"
     ]
    }
   ],
   "source": [
    "print(imprime_boletim(nome=\"Joãozinho\",nip= '12.3456.78'))"
   ]
  },
  {
   "cell_type": "code",
   "execution_count": null,
   "metadata": {},
   "outputs": [],
   "source": []
  },
  {
   "cell_type": "code",
   "execution_count": null,
   "metadata": {
    "colab": {
     "base_uri": "https://localhost:8080/"
    },
    "id": "qkEyFtR1fU5W",
    "outputId": "e5c2aee9-33b7-41f8-b731-c4a11b8dcc59"
   },
   "outputs": [
    {
     "name": "stdout",
     "output_type": "stream",
     "text": [
      "I want to pay 49.95 dollars for 3 pieces of item 567.\n"
     ]
    }
   ],
   "source": [
    "quantity = 3\n",
    "itemno = 567\n",
    "price = 49.95\n",
    "myorder = \"I want to pay {2} dollars for {0} pieces of item {1}.\"\n",
    "print(myorder.format(quantity, itemno, price))"
   ]
  },
  {
   "cell_type": "markdown",
   "metadata": {
    "id": "9CaGkwxNXDls"
   },
   "source": [
    "Ao contrário de uma string ```C```, as strings Python não podem ser alteradas. Atribuir a uma posição indexada na string resulta em um erro:"
   ]
  },
  {
   "cell_type": "code",
   "execution_count": null,
   "metadata": {
    "colab": {
     "base_uri": "https://localhost:8080/"
    },
    "id": "CVgAEg8uW-Jy",
    "outputId": "3445ee8a-1cb0-49c2-a6af-b8de0a4d1c83"
   },
   "outputs": [
    {
     "name": "stdout",
     "output_type": "stream",
     "text": [
      "word[0]: H\n"
     ]
    }
   ],
   "source": [
    "word = 'Help'+' ' + 'me'\n",
    "print('word[0]: '+word[0])\n",
    "#word[0] = 'x' # tem que dar erro"
   ]
  },
  {
   "cell_type": "markdown",
   "metadata": {
    "id": "DcINAnxNfEJx"
   },
   "source": [
    "## Formatação de Strings"
   ]
  },
  {
   "cell_type": "markdown",
   "metadata": {
    "id": "DpbOG5YlfZL1"
   },
   "source": [
    "A formatação de string também é conhecida como interpolação de string. É o processo de inserir uma string ou variável personalizada em um texto predefinido."
   ]
  },
  {
   "cell_type": "code",
   "execution_count": null,
   "metadata": {
    "colab": {
     "base_uri": "https://localhost:8080/"
    },
    "id": "RIGM3W4xffZx",
    "outputId": "cc81d4f6-88f5-45b8-c713-0763e81d6653"
   },
   "outputs": [
    {
     "name": "stdout",
     "output_type": "stream",
     "text": [
      "String formatting is a powerful technique\n"
     ]
    }
   ],
   "source": [
    "custom_string = \"String formatting\"\n",
    "print(f\"{custom_string} is a powerful technique\")"
   ]
  },
  {
   "cell_type": "markdown",
   "metadata": {
    "id": "ZyZssPMNflwX"
   },
   "source": [
    "### Métodos de formatação"
   ]
  },
  {
   "cell_type": "markdown",
   "metadata": {
    "id": "h85ARa3bgVew"
   },
   "source": [
    "Colocando marcadores de posição definidos por um par de chaves em um texto é chamado de formatação posicional. Chamamos o método de formato de ponto de string. Em seguida, passamos o valor desejado para o método. O método substitui os marcadores de posição usando os valores na ordem de aparência substituídos por valor:"
   ]
  },
  {
   "cell_type": "code",
   "execution_count": null,
   "metadata": {
    "colab": {
     "base_uri": "https://localhost:8080/"
    },
    "id": "4jFi1YhmgpN7",
    "outputId": "ebe5da51-2f08-4be8-bd95-c3ec8c14a1c5"
   },
   "outputs": [
    {
     "name": "stdout",
     "output_type": "stream",
     "text": [
      "text 10\n"
     ]
    }
   ],
   "source": [
    "value = 10\n",
    "print('text {}'.format(value))"
   ]
  },
  {
   "cell_type": "code",
   "execution_count": null,
   "metadata": {
    "colab": {
     "base_uri": "https://localhost:8080/"
    },
    "id": "gIGitB7IgvMe",
    "outputId": "9881a833-0659-4922-9b2a-df1a0beff3e3"
   },
   "outputs": [
    {
     "name": "stdout",
     "output_type": "stream",
     "text": [
      "text valor\n"
     ]
    }
   ],
   "source": [
    "value = 'valor'\n",
    "print('text {}'.format(value))"
   ]
  },
  {
   "cell_type": "markdown",
   "metadata": {
    "id": "nvmpBZdFhHtB"
   },
   "source": [
    "Definimos uma string e inserimos dois marcadores de posição. Passamos duas strings para o método, que serão passadas para obter a seguinte saída:\n"
   ]
  },
  {
   "cell_type": "code",
   "execution_count": null,
   "metadata": {
    "colab": {
     "base_uri": "https://localhost:8080/"
    },
    "id": "b69HRSX2hG6w",
    "outputId": "4394ea34-d3a8-4d15-c5a3-803c9ecaf4d4"
   },
   "outputs": [
    {
     "name": "stdout",
     "output_type": "stream",
     "text": [
      "Machine learning provides systems the ability to learn automatically\n"
     ]
    }
   ],
   "source": [
    "print(\"Machine learning provides {} the ability to learn {}\".format(\"systems\", \"automatically\"))"
   ]
  },
  {
   "cell_type": "markdown",
   "metadata": {
    "id": "upHU5OlahUk2"
   },
   "source": [
    "Podemos usar variáveis ​​tanto para a string quanto para os valores passados ​​para o método. No código de exemplo a seguir, definimos uma string com marcadores de posição e duas outras variáveis. Aplicamos o método de formatação à string usando as duas variáveis ​​definidas. O método lê a string e substitui os marcadores de posição pelos valores fornecidos."
   ]
  },
  {
   "cell_type": "code",
   "execution_count": null,
   "metadata": {
    "id": "fk3hcrfShVnz"
   },
   "outputs": [],
   "source": [
    "my_string = \"{} rely on {} datasets\"\n",
    "method = \"Supervised algorithms\"\n",
    "condition = \"labeled\""
   ]
  },
  {
   "cell_type": "markdown",
   "metadata": {
    "id": "THlZFdWRhi6E"
   },
   "source": [
    "No exemplo a seguir, você adiciona números de índice aos marcadores de posição para reordenar os valores. Isso afeta a ordem em que o método substitui os marcadores de posição.\n",
    "\n",
    "O método os substitui pelos valores na ordem fornecida."
   ]
  },
  {
   "cell_type": "code",
   "execution_count": null,
   "metadata": {
    "colab": {
     "base_uri": "https://localhost:8080/"
    },
    "id": "ip2s_ubqhphF",
    "outputId": "6d902a4b-c3b3-43b8-c3ba-7f88aa1ba4b4"
   },
   "outputs": [
    {
     "name": "stdout",
     "output_type": "stream",
     "text": [
      "Betty has a friend called Linda and a sister called Daisy\n"
     ]
    }
   ],
   "source": [
    "print(\"{} has a friend called {} and a sister called {}\". format(\"Betty\", \"Linda\", \"Daisy\"))"
   ]
  },
  {
   "cell_type": "code",
   "execution_count": null,
   "metadata": {
    "colab": {
     "base_uri": "https://localhost:8080/"
    },
    "id": "DkMwZGNKhpx6",
    "outputId": "b8a2ff66-e823-41c0-8082-94f34a4794c5"
   },
   "outputs": [
    {
     "name": "stdout",
     "output_type": "stream",
     "text": [
      "Daisy has a friend called Betty and a sister called Linda\n"
     ]
    }
   ],
   "source": [
    "print(\"{2} has a friend called {0} and a sister called {1}\". format(\"Betty\", \"Linda\", \"Daisy\"))"
   ]
  },
  {
   "cell_type": "markdown",
   "metadata": {
    "id": "GpwpjUrGhv8B"
   },
   "source": [
    "Também podemos introduzir argumentos de palavra-chave que são chamados por seus nomes de palavra-chave.\n",
    "\n",
    "No código de exemplo abaixo, inserimos palavras-chave nos espaços reservados. Então, chamamos essas palavras-chave no método de formato. Em seguida, atribuímos qual variável será passada para cada um deles, resultando na seguinte saída."
   ]
  },
  {
   "cell_type": "code",
   "execution_count": null,
   "metadata": {
    "colab": {
     "base_uri": "https://localhost:8080/"
    },
    "id": "uo2Pi7u_hzxH",
    "outputId": "5c8599a7-511f-4632-b2fb-dc1526f2c480"
   },
   "outputs": [
    {
     "name": "stdout",
     "output_type": "stream",
     "text": [
      "Unsupervised algorithms try to find patterns in the dataset\n"
     ]
    }
   ],
   "source": [
    "tool=\"Unsupervised algorithms\"\n",
    "goal=\"patterns\"\n",
    "print(\"{title} try to find {aim} in the dataset\".format(title=tool, aim=goal))"
   ]
  },
  {
   "cell_type": "code",
   "execution_count": null,
   "metadata": {
    "colab": {
     "base_uri": "https://localhost:8080/"
    },
    "id": "Oe-9oduBh43a",
    "outputId": "81cddca7-9859-471e-c974-59d6f2e4c3d3"
   },
   "outputs": [
    {
     "name": "stdout",
     "output_type": "stream",
     "text": [
      "Unsupervised algorithms try to find patterns in the dataset\n"
     ]
    }
   ],
   "source": [
    "my_methods = {\"tool\": \"Unsupervised algorithms\", \"goal\": \"patterns\"}\n",
    "print('{data[tool]} try to find {data[goal]} in the dataset'.format(data=my_methods))"
   ]
  },
  {
   "cell_type": "markdown",
   "metadata": {
    "id": "QfkGxHpziLiL"
   },
   "source": [
    "Também podemos especificar o formato especificado entre colchetes. Isso define como os valores individuais são apresentados. Aqui, usaremos o especificador de dois pontos do índice de sintaxe. Um dos especificadores de formato mais comuns é float representado por f. No código, especificamos que o valor passado com o índice 0 será um float."
   ]
  },
  {
   "cell_type": "code",
   "execution_count": null,
   "metadata": {
    "id": "_PR70QD6iC1n"
   },
   "outputs": [],
   "source": [
    "print(\"Only {0:f}% of the {1} produced worldwide is {2}!\". format(0.5155675, \"data\", \"analyzed\"))"
   ]
  },
  {
   "cell_type": "markdown",
   "metadata": {
    "id": "6E1Q18-Hi7lQ"
   },
   "source": [
    "Também poderíamos adicionar ```.2f``` indicando que queremos que o float tenha duas casas decimais, como visto na saída resultante."
   ]
  },
  {
   "cell_type": "code",
   "execution_count": null,
   "metadata": {
    "colab": {
     "base_uri": "https://localhost:8080/"
    },
    "id": "H1s_I5WEjDm_",
    "outputId": "a6ce84cb-69b0-4296-c483-211fc10d381f"
   },
   "outputs": [
    {
     "name": "stdout",
     "output_type": "stream",
     "text": [
      "2021-09-08 22:35:30.381638\n"
     ]
    }
   ],
   "source": [
    "from datetime import datetime\n",
    "print(datetime.now())"
   ]
  },
  {
   "cell_type": "markdown",
   "metadata": {
    "id": "CVSl5aCijHmM"
   },
   "source": [
    "Mas como o formato retornado é muito particular, você pode usar o especificador de formato como ```%y-%m-%d-%h-%m``` para ajustar o formato para algo mais familiar para nós!"
   ]
  },
  {
   "cell_type": "code",
   "execution_count": null,
   "metadata": {
    "colab": {
     "base_uri": "https://localhost:8080/"
    },
    "id": "VJOFk5c4jSt6",
    "outputId": "f5c4e80f-dee3-4cae-8bf0-776b51d37586"
   },
   "outputs": [
    {
     "name": "stdout",
     "output_type": "stream",
     "text": [
      "Today's date is 2021-09-08 22:35\n"
     ]
    }
   ],
   "source": [
    "print(\"Today's date is {:%Y-%m-%d %H:%M}\".format(datetime.now()))"
   ]
  },
  {
   "cell_type": "code",
   "execution_count": null,
   "metadata": {
    "id": "YvHF5WilldA-"
   },
   "outputs": [],
   "source": [
    "txt1 = \"My name is {fname}, I'm {age}\".format(fname = \"John\", age = 36)\n",
    "txt2 = \"My name is {0}, I'm {1}\".format(\"John\",36)\n",
    "txt3 = \"My name is {}, I'm {}\".format(\"John\",36)"
   ]
  },
  {
   "cell_type": "markdown",
   "metadata": {
    "id": "NzhUsJM_kzXN"
   },
   "source": [
    "| Placeholders | Formatting type                                                                                         |\n",
    "|--------------|---------------------------------------------------------------------------------------------------------|\n",
    "| :<           | Left aligns the result (within the available space)                                                     |\n",
    "| :>           | Right aligns the result (within the available space)                                                    |\n",
    "| :^           | Center aligns the result (within the available space)                                                   |\n",
    "| :=           | Places the sign to the left most position                                                               |\n",
    "| :+           | Use a plus sign to indicate if the result is positive or negative                                       |\n",
    "| :-           | Use a minus sign for negative values only                                                               |\n",
    "| :            | Use a space to insert an extra space before positive numbers (and a minus sign before negative numbers) |\n",
    "| :,           | Use a comma as a thousand separator                                                                     |\n",
    "| :_           | Use a underscore as a thousand separator                                                                |\n",
    "| :b           | Binary format                                                                                           |\n",
    "| :c           | Converts the value into the corresponding unicode character                                             |\n",
    "| :d           | Decimal format                                                                                          |\n",
    "| :e           | Scientific format, with a lower case e                                                                  |\n",
    "| :E           | Scientific format, with an upper case E                                                                 |\n",
    "| :f           | Fix point number format                                                                                 |\n",
    "| :F           | Fix point number format, in uppercase format (show inf and nan as INF and NAN)                          |\n",
    "| :g           | General format                                                                                          |\n",
    "| :G           | General format (using a upper case E for scientific notations)                                          |\n",
    "| :o           | Octal format                                                                                            |\n",
    "| :x           | Hex format, lower case                                                                                  |\n",
    "| :X           | Hex format, upper case                                                                                  |\n",
    "| :n           | Number format                                                                                           |\n",
    "| :%           | Percentage format                                                                                       |"
   ]
  },
  {
   "cell_type": "markdown",
   "metadata": {
    "id": "Yqf5m5BufU5Z"
   },
   "source": [
    "# Operadores Python\n",
    "Os operadores são usados para executar operações em variáveis e valores.\n",
    "\n",
    "O Python divide os operadores nos seguintes grupos:\n",
    "\n",
    "1 - Operadores aritméticos <br>\n",
    "2 - Operadores de atribuição <br>\n",
    "3 - Operadores de comparação <br>\n",
    "4 - Operadores lógicos <br>\n",
    "5 - Operadores de identidade <br>\n",
    "6 - Operadores de associação <br>\n",
    "7 - Operadores bit a bit <br>"
   ]
  },
  {
   "cell_type": "markdown",
   "metadata": {
    "id": "kS58aeyUfU5a"
   },
   "source": [
    "## 1 - Operadores aritméticos\n",
    "<table border=1 frame=void rules=rows>\n",
    "  <tr>\n",
    "    <th>Operador</th>\n",
    "    <th>Nome</th>\n",
    "    <th>Exemplo</th>\n",
    "  </tr>\n",
    "  \n",
    "  <tr>\n",
    "    <td>+</td>\n",
    "    <td>Adição</td>\n",
    "    <td>x+y</td>\n",
    "  </tr>\n",
    "  \n",
    "  <tr>\n",
    "   <td>-</td>\n",
    "   <td>Subtração</td>\n",
    "   <td>x-y</td>\n",
    "  </tr>\n",
    "  \n",
    "  <tr>\n",
    "   <td>*</td>\n",
    "   <td>Multiplicação</td>\n",
    "   <td>x*y</td>\n",
    "  </tr>\n",
    "      \n",
    "  <tr>\n",
    "   <td>%</td>\n",
    "   <td>Módulo</td>\n",
    "   <td>x%y</td>\n",
    "  </tr>\n",
    "  \n",
    "  <tr>\n",
    "   <td>**</td>\n",
    "   <td>Potência</td>\n",
    "   <td>x**y</td>\n",
    "  </tr>\n",
    "  \n",
    "  <tr>\n",
    "   <td>//</td>\n",
    "   <td>Divisão arrendondada para baixo</td>\n",
    "   <td>x//y</td>\n",
    "  </tr>\n",
    "  \n",
    "      \n",
    "</table>"
   ]
  },
  {
   "cell_type": "markdown",
   "metadata": {
    "id": "zNijSE14fU5a"
   },
   "source": [
    "## 2 - Operadores de atribuição\n",
    "<table border=1 frame=void rules=rows>\n",
    "  <tr>\n",
    "    <th>Operador</th>\n",
    "    <th>Exemplo</th>\n",
    "    <th>Mesmo que</th>\n",
    "  </tr>\n",
    "  \n",
    "  <tr>\n",
    "    <td>=</td>\n",
    "    <td>x = 5</td>\n",
    "    <td>x = 5</td>\n",
    "  </tr>\n",
    "  \n",
    "  <tr>\n",
    "    <td>+=</td>\n",
    "    <td>x += 3</td>\n",
    "    <td>x = x + 3</td>\n",
    "  </tr>\n",
    "  \n",
    "  <tr>\n",
    "    <td>-=</td>\n",
    "    <td>x -= 3</td>\n",
    "    <td>x = x - 3</td>\n",
    "  </tr>\n",
    "  \n",
    "  <tr>\n",
    "    <td>*=</td>\n",
    "    <td>x *= 3</td>\n",
    "    <td>x = x * 3</td>\n",
    "  </tr>\n",
    "  \n",
    "  <tr>\n",
    "    <td>/=</td>\n",
    "    <td>x /= 3</td>\n",
    "    <td>x = x / 3</td>\n",
    "  </tr>\n",
    "  \n",
    "  <tr>\n",
    "    <td>%=</td>\n",
    "    <td>x %= 3</td>\n",
    "    <td>x = x % 3</td>\n",
    "  </tr>\n",
    "  \n",
    "  <tr>\n",
    "    <td>//=\t</td>\n",
    "    <td>x //= 3</td>\n",
    "    <td>x = x // 3</td>\n",
    "  </tr>\n",
    "  \n",
    "  <tr>\n",
    "    <td>**=</td>\n",
    "    <td>x **= 3</td>\n",
    "    <td>x = x ** 3</td>\n",
    "  </tr>\n",
    "  \n",
    "  <tr>\n",
    "    <td>&=</td>\n",
    "    <td>x &= 3</td>\n",
    "    <td>x = x & 3</td>\n",
    "  </tr>\n",
    "  \n",
    "  <tr>\n",
    "    <td>|=</td>\n",
    "    <td>x |= 3</td>\n",
    "    <td>x = x | 3</td>\n",
    "  </tr>\n",
    "  \n",
    "  <tr>\n",
    "    <td>^=</td>\n",
    "    <td>x ^= 3</td>\n",
    "    <td>x = x ^ 3</td>\n",
    "  </tr>\n",
    "  \n",
    "  <tr>\n",
    "    <td>>>=</td>\n",
    "    <td>x >>= 3</td>\n",
    "    <td>x = x >> 3</td>\n",
    "  </tr>\n",
    "  \n",
    "  <tr>\n",
    "    <td><<=</td>\n",
    "    <td>x <<= 3</td>\n",
    "    <td>x = x << 3</td>\n",
    "  </tr>\n",
    "      \n",
    "</table>"
   ]
  },
  {
   "cell_type": "markdown",
   "metadata": {
    "id": "5342H2x3fU5b"
   },
   "source": [
    "## 3 - Operadores de comparação\n",
    "<table border=1 frame=void rules=rows>\n",
    "  <tr>\n",
    "    <th>Operador</th>\n",
    "    <th>Nome</th>\n",
    "    <th>Exemplo</th>\n",
    "  </tr>\n",
    "  \n",
    "  <tr>\n",
    "    <td>==</td>\n",
    "    <td>Igualdade</td>\n",
    "    <td>x == y</td>\n",
    "  </tr>\n",
    "  \n",
    "  <tr>\n",
    "    <td>!=</td>\n",
    "    <td>Desigualdade</td>\n",
    "    <td>x != y</td>\n",
    "  </tr>\n",
    "  \n",
    "  <tr>\n",
    "    <td>></td>\n",
    "    <td>Maior que</td>\n",
    "    <td>x > y</td>\n",
    "  </tr>\n",
    "  \n",
    "  <tr>\n",
    "    <td><</td>\n",
    "    <td>Menor que</td>\n",
    "    <td>x < y</td>\n",
    "  </tr>\n",
    "  \n",
    "  <tr>\n",
    "    <td>>=</td>\n",
    "    <td>Maior ou igual que</td>\n",
    "    <td>x >= y</td>\n",
    "  </tr>\n",
    "  \n",
    "  <tr>\n",
    "    <td><=</td>\n",
    "    <td>Menor ou igual que</td>\n",
    "    <td>x <= y</td>\n",
    "  </tr>\n",
    "      \n",
    "</table>\n"
   ]
  },
  {
   "cell_type": "markdown",
   "metadata": {
    "id": "skje9dc5fU5b"
   },
   "source": [
    "## 4 - Operadores lógicos\n",
    "<table border=1 frame=void rules=rows>\n",
    "  <tr>\n",
    "    <th>Operador</th>\n",
    "    <th>Descrição</th>\n",
    "    <th>Exemplo</th>\n",
    "  </tr>\n",
    "  \n",
    "  <tr>\n",
    "    <td>and</td>\n",
    "    <td>Retorna True se ambos são verdadeiros</td>\n",
    "    <td>x < 5 and  x < 10 </td>\n",
    "  </tr>\n",
    "  \n",
    "  <tr>\n",
    "    <td>or</td>\n",
    "    <td>Retorna True se um for verdadeiro</td>\n",
    "    <td>x < 5 or  x < 10 </td>\n",
    "  </tr>\n",
    "  <tr>\n",
    "    <td>not</td>\n",
    "    <td>Inverte o resultado</td>\n",
    "    <td> not(x < 5) </td>\n",
    "  </tr>\n",
    "        \n",
    "</table>"
   ]
  },
  {
   "cell_type": "markdown",
   "metadata": {
    "id": "0UwRRcrKfU5c"
   },
   "source": [
    "## 5 - Operadores de identidade\n",
    "<table border=1 frame=void rules=rows>\n",
    "  <tr>\n",
    "    <th>Operador</th>\n",
    "    <th>Descrição</th>\n",
    "    <th>Exemplo</th>\n",
    "  </tr>\n",
    "  \n",
    "  <tr>\n",
    "    <td>is</td>\n",
    "    <td>Retorna True se as variáveis são o mesmo objeto</td>\n",
    "    <td>x is y</td>\n",
    "  </tr>\n",
    "  \n",
    "  <tr>\n",
    "    <td>is not</td>\n",
    "    <td>Retorna True se as variáveis não são o mesmo objeto</td>\n",
    "    <td>x is not y </td>\n",
    "  </tr>\n",
    "        \n",
    "</table>"
   ]
  },
  {
   "cell_type": "code",
   "execution_count": 156,
   "metadata": {},
   "outputs": [
    {
     "name": "stdout",
     "output_type": "stream",
     "text": [
      "False\n"
     ]
    }
   ],
   "source": [
    "x = \"Eu vou embora daqui!\"\n",
    "y = x\n",
    "x = x.replace('vou', 'não vou')\n",
    "print(x is y)"
   ]
  },
  {
   "cell_type": "markdown",
   "metadata": {
    "id": "1TYhyiLXfU5c"
   },
   "source": [
    "## 6 - Operadores de associação\n",
    "<table border=1 frame=void rules=rows>\n",
    "  <tr>\n",
    "    <th>Operador</th>\n",
    "    <th>Descrição</th>\n",
    "    <th>Exemplo</th>\n",
    "  </tr>\n",
    "  \n",
    "  <tr>\n",
    "    <td>in</td>\n",
    "    <td>Retorna True se x está contido em y</td>\n",
    "    <td>x in y</td>\n",
    "  </tr>\n",
    "  \n",
    "  <tr>\n",
    "    <td>not in</td>\n",
    "    <td>Retorna True se x não está contido em y</td>\n",
    "    <td>x not in y </td>\n",
    "  </tr>\n",
    "        \n",
    "</table>"
   ]
  },
  {
   "cell_type": "markdown",
   "metadata": {
    "id": "gA6e0K2JfU5d"
   },
   "source": [
    "## 7 - Operadores bit a bit\n",
    "<table border=1 frame=void rules=rows>\n",
    "  <tr>\n",
    "    <th>Operador</th>\n",
    "    <th>Descrição</th>\n",
    "    <th>Exemplo</th>\n",
    "  </tr>\n",
    "  \n",
    "  <tr>\n",
    "    <td>&</td>\n",
    "    <td>And: Retorna 1 se cada um dos bits associados são 1</td>\n",
    "    <td>x and y</td>\n",
    "  </tr>\n",
    "  \n",
    "  <tr>\n",
    "    <td>|</td>\n",
    "    <td>Or: Retorna 1 se qualquer um dos bits associados são 1</td>\n",
    "    <td>x or y </td>\n",
    "  </tr>\n",
    "  \n",
    "  <tr>\n",
    "    <td>^</td>\n",
    "    <td>XOR: Retorna 1 se bits são contrarios entre si</td>\n",
    "    <td>x ^ y </td>\n",
    "  </tr>\n",
    "       \n",
    "  <tr>\n",
    "    <td>~</td>\n",
    "    <td>Not: já definido</td>\n",
    "    <td>x ~ y </td>\n",
    "  </tr>\n",
    "  \n",
    "  <tr>\n",
    "    <td><<</td>\n",
    "    <td>Shift y casas para a esquerda, adicionando <br>zeros da direita e deixe os bits mais significativos à esquerda</td>\n",
    "    <td>x << y </td>\n",
    "  </tr>\n",
    "  \n",
    "  <tr>\n",
    "    <td>>></td>\n",
    "    <td>Shift y casas para a direita, adicionando <br>zeros da esquerda e deixe os bits mais significativos à direita</td>\n",
    "    <td>x >> y </td>\n",
    "  </tr>\n",
    "  \n",
    "</table>"
   ]
  },
  {
   "cell_type": "code",
   "execution_count": null,
   "metadata": {
    "colab": {
     "base_uri": "https://localhost:8080/"
    },
    "id": "Vv-bM9QAfU5d",
    "outputId": "ae40a2c9-d3d0-45c7-a17b-0790d9391604"
   },
   "outputs": [
    {
     "name": "stdout",
     "output_type": "stream",
     "text": [
      "oi\n"
     ]
    }
   ],
   "source": [
    "a = 9\n",
    "\n",
    "if a != 10:\n",
    "    print('oi')"
   ]
  },
  {
   "cell_type": "markdown",
   "metadata": {
    "id": "ACmiA4G8fU5g"
   },
   "source": [
    "Existem quatro tipos de dados de coleção de dados na linguagem  Python:<br>\n",
    "\n",
    "```List``` é uma coleção ordenada e modificável. Permite membros duplicados. <br>\n",
    "```Tuple``` é uma coleção que é ordenada e imutável. Permite membros duplicados.<br>\n",
    "```Set``` é uma coleção desordenada e não indexada. Nenhum membro duplicado.<br>\n",
    "```Dicionário``` é uma coleção que é desordenada, alterável e indexada. Nenhum membro duplicado. <br>\n",
    "\n",
    "Ao escolher um tipo de coleção, é útil entender as propriedades desse tipo. Escolher o tipo certo para um determinado conjunto de dados pode significar retenção de significado e isso pode significar um aumento na eficiência ou segurança."
   ]
  },
  {
   "cell_type": "markdown",
   "metadata": {
    "id": "tffojehOfU5h"
   },
   "source": [
    "Uma lista é uma coleção ordenada e modificável. Em listas do Python são escritas com colchetes."
   ]
  },
  {
   "cell_type": "code",
   "execution_count": null,
   "metadata": {
    "colab": {
     "base_uri": "https://localhost:8080/"
    },
    "id": "5sTmt5omfU5i",
    "outputId": "7a4b537b-2212-4e57-a2c7-c0a192791d07"
   },
   "outputs": [
    {
     "name": "stdout",
     "output_type": "stream",
     "text": [
      "['apple', 'banana', 'cherry']\n"
     ]
    }
   ],
   "source": [
    "thislist = [\"apple\", \"banana\", \"cherry\"]\n",
    "print(thislist)"
   ]
  },
  {
   "cell_type": "code",
   "execution_count": null,
   "metadata": {
    "colab": {
     "base_uri": "https://localhost:8080/"
    },
    "id": "HPDWFy_LfU5k",
    "outputId": "39e2d033-bf25-4a16-a2d8-dcff9cee66a9"
   },
   "outputs": [
    {
     "name": "stdout",
     "output_type": "stream",
     "text": [
      "banana\n"
     ]
    }
   ],
   "source": [
    "thislist = [\"apple\", \"banana\", \"cherry\"]\n",
    "print(thislist[1])"
   ]
  },
  {
   "cell_type": "code",
   "execution_count": null,
   "metadata": {
    "colab": {
     "base_uri": "https://localhost:8080/"
    },
    "id": "fEwjOz-ifU5n",
    "outputId": "fc29156e-599f-4553-97fd-534f04f57e1c"
   },
   "outputs": [
    {
     "name": "stdout",
     "output_type": "stream",
     "text": [
      "['apple', 'blackcurrant', 'cherry']\n"
     ]
    }
   ],
   "source": [
    "thislist = [\"apple\", \"banana\", \"cherry\"]\n",
    "thislist[1] = \"blackcurrant\"\n",
    "print(thislist)"
   ]
  },
  {
   "cell_type": "code",
   "execution_count": null,
   "metadata": {
    "colab": {
     "base_uri": "https://localhost:8080/"
    },
    "id": "bAr1OwfKfU5p",
    "outputId": "5568836f-7c75-439f-ca66-c0f2a31dff65"
   },
   "outputs": [
    {
     "name": "stdout",
     "output_type": "stream",
     "text": [
      "apple\n",
      "banana\n",
      "cherry\n"
     ]
    }
   ],
   "source": [
    "thislist = [\"apple\", \"banana\", \"cherry\"]\n",
    "for x in thislist:\n",
    "    print(x)"
   ]
  },
  {
   "cell_type": "code",
   "execution_count": null,
   "metadata": {
    "colab": {
     "base_uri": "https://localhost:8080/"
    },
    "id": "xogcVeGIfU5s",
    "outputId": "e22a8c81-37c7-4fd7-b84b-d73306788f7d"
   },
   "outputs": [
    {
     "name": "stdout",
     "output_type": "stream",
     "text": [
      "Yes, 'apple' is in the fruits list\n"
     ]
    }
   ],
   "source": [
    "thislist = [\"apple\", \"banana\", \"cherry\"]\n",
    "if \"apple\" in thislist:\n",
    "    print(\"Yes, 'apple' is in the fruits list\")"
   ]
  },
  {
   "cell_type": "code",
   "execution_count": null,
   "metadata": {
    "colab": {
     "base_uri": "https://localhost:8080/"
    },
    "id": "7PkzSI58fU5u",
    "outputId": "5d86b619-3c28-4f8a-8d0a-df56c372f955"
   },
   "outputs": [
    {
     "name": "stdout",
     "output_type": "stream",
     "text": [
      "3\n"
     ]
    }
   ],
   "source": [
    "thislist = [\"apple\", \"banana\", \"cherry\"]\n",
    "print(len(thislist))"
   ]
  },
  {
   "cell_type": "code",
   "execution_count": null,
   "metadata": {
    "colab": {
     "base_uri": "https://localhost:8080/"
    },
    "id": "mZxe_jbDfU5w",
    "outputId": "58be6247-01c3-4e08-aa3f-e80753967059"
   },
   "outputs": [
    {
     "name": "stdout",
     "output_type": "stream",
     "text": [
      "['apple', 'banana', 'cherry', 'orange']\n"
     ]
    }
   ],
   "source": [
    "thislist = [\"apple\", \"banana\", \"cherry\"]\n",
    "thislist.append(\"orange\")\n",
    "print(thislist)"
   ]
  },
  {
   "cell_type": "code",
   "execution_count": null,
   "metadata": {
    "colab": {
     "base_uri": "https://localhost:8080/"
    },
    "id": "pQoNsL7KfU50",
    "outputId": "d3225f4d-bd55-48f0-c838-0862b7144d13"
   },
   "outputs": [
    {
     "name": "stdout",
     "output_type": "stream",
     "text": [
      "['apple', 'orange', 'banana', 'cherry']\n"
     ]
    }
   ],
   "source": [
    "thislist = [\"apple\", \"banana\", \"cherry\"]\n",
    "thislist.insert(1, \"orange\")\n",
    "print(thislist)"
   ]
  },
  {
   "cell_type": "code",
   "execution_count": null,
   "metadata": {
    "colab": {
     "base_uri": "https://localhost:8080/"
    },
    "id": "T37Gr1nlfU52",
    "outputId": "f5332c6f-30f4-4e6c-a51d-aabc6e88610f"
   },
   "outputs": [
    {
     "name": "stdout",
     "output_type": "stream",
     "text": [
      "['apple', 'cherry']\n"
     ]
    }
   ],
   "source": [
    "thislist = [\"apple\", \"banana\", \"cherry\"]\n",
    "thislist.remove(\"banana\")\n",
    "print(thislist)"
   ]
  },
  {
   "cell_type": "code",
   "execution_count": null,
   "metadata": {
    "colab": {
     "base_uri": "https://localhost:8080/"
    },
    "id": "-M0XhXrafU54",
    "outputId": "dc6d44a7-88a9-4514-f22d-39aa546b2cdf"
   },
   "outputs": [
    {
     "name": "stdout",
     "output_type": "stream",
     "text": [
      "['apple', 'cherry']\n"
     ]
    }
   ],
   "source": [
    "thislist = [\"apple\", \"banana\", \"cherry\"]\n",
    "thislist.remove(\"banana\")\n",
    "print(thislist)"
   ]
  },
  {
   "cell_type": "code",
   "execution_count": null,
   "metadata": {
    "colab": {
     "base_uri": "https://localhost:8080/"
    },
    "id": "4zW_JM2hfU57",
    "outputId": "53154c7e-350b-404d-a5b6-bda556667613"
   },
   "outputs": [
    {
     "name": "stdout",
     "output_type": "stream",
     "text": [
      "['apple', 'banana']\n"
     ]
    }
   ],
   "source": [
    "thislist = [\"apple\", \"banana\", \"cherry\"]\n",
    "thislist.pop()\n",
    "print(thislist)"
   ]
  },
  {
   "cell_type": "code",
   "execution_count": null,
   "metadata": {
    "colab": {
     "base_uri": "https://localhost:8080/"
    },
    "id": "NL9KIKz9fU5-",
    "outputId": "71fc2f3a-81c5-4e9b-92ab-75da0823a85a"
   },
   "outputs": [
    {
     "name": "stdout",
     "output_type": "stream",
     "text": [
      "['banana', 'cherry']\n"
     ]
    }
   ],
   "source": [
    "thislist = [\"apple\", \"banana\", \"cherry\"]\n",
    "del thislist[0]\n",
    "print(thislist)"
   ]
  },
  {
   "cell_type": "code",
   "execution_count": null,
   "metadata": {
    "colab": {
     "base_uri": "https://localhost:8080/"
    },
    "id": "WZBy8TjpfU6A",
    "outputId": "532ea2e2-2a2e-436d-da43-290fe6368fbf"
   },
   "outputs": [
    {
     "name": "stdout",
     "output_type": "stream",
     "text": [
      "[]\n"
     ]
    }
   ],
   "source": [
    "thislist = [\"apple\", \"banana\", \"cherry\"]\n",
    "thislist.clear()\n",
    "print(thislist)"
   ]
  },
  {
   "cell_type": "code",
   "execution_count": null,
   "metadata": {
    "colab": {
     "base_uri": "https://localhost:8080/"
    },
    "id": "9mzuuYItfU6C",
    "outputId": "7025d245-fba9-47e1-85ad-f0e059324364"
   },
   "outputs": [
    {
     "name": "stdout",
     "output_type": "stream",
     "text": [
      "['apple', 'banana', 'cherry']\n"
     ]
    }
   ],
   "source": [
    "thislist = [\"apple\", \"banana\", \"cherry\"]\n",
    "mylist = thislist.copy()\n",
    "print(mylist)"
   ]
  },
  {
   "cell_type": "markdown",
   "metadata": {
    "id": "-_yajptefU6F"
   },
   "source": [
    "Um dicionário é uma coleção não ordenada, modificável e indexada. Em Python, os dicionários são escritos com chaves e possuem chaves e valores."
   ]
  },
  {
   "cell_type": "code",
   "execution_count": null,
   "metadata": {
    "colab": {
     "base_uri": "https://localhost:8080/"
    },
    "id": "7_DOwfaVfU6F",
    "outputId": "28337cda-4ef4-42f6-d6b8-246e320ff9fa"
   },
   "outputs": [
    {
     "name": "stdout",
     "output_type": "stream",
     "text": [
      "{'brand': 'Ford', 'model': 'Mustang', 'year': 1964}\n"
     ]
    }
   ],
   "source": [
    "thisdict =\t{\n",
    "  \"brand\": \"Ford\",\n",
    "  \"model\": \"Mustang\",\n",
    "  \"year\": 1964\n",
    "}\n",
    "print(thisdict)"
   ]
  },
  {
   "cell_type": "code",
   "execution_count": null,
   "metadata": {
    "colab": {
     "base_uri": "https://localhost:8080/"
    },
    "id": "T508wvnqfU6I",
    "outputId": "f4bc60bb-c6ea-4cbe-e8fe-6437177ce2a7"
   },
   "outputs": [
    {
     "name": "stdout",
     "output_type": "stream",
     "text": [
      "Mustang\n"
     ]
    }
   ],
   "source": [
    "x = thisdict[\"model\"]\n",
    "print(x)"
   ]
  },
  {
   "cell_type": "code",
   "execution_count": null,
   "metadata": {
    "colab": {
     "base_uri": "https://localhost:8080/"
    },
    "id": "sDYViCFefU6K",
    "outputId": "1bb62480-63a8-47b0-9687-ee7b291b9a95"
   },
   "outputs": [
    {
     "name": "stdout",
     "output_type": "stream",
     "text": [
      "Mustang\n"
     ]
    }
   ],
   "source": [
    "x = thisdict.get(\"model\")\n",
    "print(x)"
   ]
  },
  {
   "cell_type": "code",
   "execution_count": null,
   "metadata": {
    "colab": {
     "base_uri": "https://localhost:8080/"
    },
    "id": "4ON_lOODfU6N",
    "outputId": "9c984cbb-7636-425f-b221-1c3950d2ae1c"
   },
   "outputs": [
    {
     "name": "stdout",
     "output_type": "stream",
     "text": [
      "{'brand': 'Ford', 'model': 'Mustang', 'year': 2018}\n"
     ]
    }
   ],
   "source": [
    "thisdict =\t{\n",
    "  \"brand\": \"Ford\",\n",
    "  \"model\": \"Mustang\",\n",
    "  \"year\": 1964\n",
    "}\n",
    "thisdict[\"year\"] = 2018\n",
    "print(thisdict)"
   ]
  },
  {
   "cell_type": "code",
   "execution_count": null,
   "metadata": {
    "colab": {
     "base_uri": "https://localhost:8080/"
    },
    "id": "2BqkpRfvfU6P",
    "outputId": "b85df280-a68d-4f60-f7d1-928f2676620a"
   },
   "outputs": [
    {
     "name": "stdout",
     "output_type": "stream",
     "text": [
      "brand\n",
      "model\n",
      "year\n"
     ]
    }
   ],
   "source": [
    "for x in thisdict:\n",
    "    print(x)"
   ]
  },
  {
   "cell_type": "code",
   "execution_count": null,
   "metadata": {
    "colab": {
     "base_uri": "https://localhost:8080/"
    },
    "id": "HDw1Qqk3fU6R",
    "outputId": "028f5689-982b-48b8-dab9-03ce3fd4177d"
   },
   "outputs": [
    {
     "name": "stdout",
     "output_type": "stream",
     "text": [
      "Ford\n",
      "Mustang\n",
      "2018\n"
     ]
    }
   ],
   "source": [
    "for x in thisdict:\n",
    "    print(thisdict[x])"
   ]
  },
  {
   "cell_type": "code",
   "execution_count": null,
   "metadata": {
    "colab": {
     "base_uri": "https://localhost:8080/"
    },
    "id": "zdGGC8SNfU6T",
    "outputId": "b80060f5-adcc-48f6-ec92-55cc06abfcd5"
   },
   "outputs": [
    {
     "name": "stdout",
     "output_type": "stream",
     "text": [
      "Ford\n",
      "Mustang\n",
      "2018\n"
     ]
    }
   ],
   "source": [
    "for x in thisdict.values():\n",
    "    print(x)"
   ]
  },
  {
   "cell_type": "code",
   "execution_count": null,
   "metadata": {
    "colab": {
     "base_uri": "https://localhost:8080/"
    },
    "id": "cKFYVwagfU6U",
    "outputId": "2631841b-2f85-4ff1-e32e-79f276b902b4"
   },
   "outputs": [
    {
     "name": "stdout",
     "output_type": "stream",
     "text": [
      "brand Ford\n",
      "model Mustang\n",
      "year 2018\n"
     ]
    }
   ],
   "source": [
    "for x, y in thisdict.items():\n",
    "    print(x, y)"
   ]
  },
  {
   "cell_type": "code",
   "execution_count": null,
   "metadata": {
    "colab": {
     "base_uri": "https://localhost:8080/"
    },
    "id": "fnrwadDafU6W",
    "outputId": "41f02fc2-2d13-4f06-c731-3a6eddf77bde"
   },
   "outputs": [
    {
     "name": "stdout",
     "output_type": "stream",
     "text": [
      "Yes, 'model' is one of the keys in the thisdict dictionary\n"
     ]
    }
   ],
   "source": [
    "thisdict =\t{\n",
    "  \"brand\": \"Ford\",\n",
    "  \"model\": \"Mustang\",\n",
    "  \"year\": 1964\n",
    "}\n",
    "if \"model\" in thisdict:\n",
    "    print(\"Yes, 'model' is one of the keys in the thisdict dictionary\")"
   ]
  },
  {
   "cell_type": "code",
   "execution_count": null,
   "metadata": {
    "colab": {
     "base_uri": "https://localhost:8080/"
    },
    "id": "ELFLxDgofU6Y",
    "outputId": "1d5a5612-bef3-4716-fdb0-674c13fc308f"
   },
   "outputs": [
    {
     "name": "stdout",
     "output_type": "stream",
     "text": [
      "3\n"
     ]
    }
   ],
   "source": [
    "print(len(thisdict))"
   ]
  },
  {
   "cell_type": "code",
   "execution_count": null,
   "metadata": {
    "colab": {
     "base_uri": "https://localhost:8080/"
    },
    "id": "-Q0jMZSxfU6a",
    "outputId": "03d6e2b6-ea42-45fd-a0b6-91a88fd1f6c5"
   },
   "outputs": [
    {
     "name": "stdout",
     "output_type": "stream",
     "text": [
      "{'brand': 'Ford', 'model': 'Mustang', 'year': 1964, 'color': 'red'}\n"
     ]
    }
   ],
   "source": [
    "thisdict =\t{\n",
    "  \"brand\": \"Ford\",\n",
    "  \"model\": \"Mustang\",\n",
    "  \"year\": 1964\n",
    "}\n",
    "thisdict[\"color\"] = \"red\"\n",
    "print(thisdict)"
   ]
  },
  {
   "cell_type": "code",
   "execution_count": null,
   "metadata": {
    "colab": {
     "base_uri": "https://localhost:8080/"
    },
    "id": "M38ulVCwfU6d",
    "outputId": "c45e0609-30ae-4d88-c002-4ff585350d65"
   },
   "outputs": [
    {
     "name": "stdout",
     "output_type": "stream",
     "text": [
      "{'brand': 'Ford', 'year': 1964}\n"
     ]
    }
   ],
   "source": [
    "thisdict =\t{\n",
    "  \"brand\": \"Ford\",\n",
    "  \"model\": \"Mustang\",\n",
    "  \"year\": 1964\n",
    "}\n",
    "thisdict.pop(\"model\")\n",
    "print(thisdict)"
   ]
  },
  {
   "cell_type": "code",
   "execution_count": null,
   "metadata": {
    "colab": {
     "base_uri": "https://localhost:8080/"
    },
    "id": "s-94NpeCfU6f",
    "outputId": "e0a5f014-0a03-42ca-d6a2-24468eeba598"
   },
   "outputs": [
    {
     "name": "stdout",
     "output_type": "stream",
     "text": [
      "{'brand': 'Ford', 'model': 'Mustang'}\n"
     ]
    }
   ],
   "source": [
    "thisdict =\t{\n",
    "  \"brand\": \"Ford\",\n",
    "  \"model\": \"Mustang\",\n",
    "  \"year\": 1964\n",
    "}\n",
    "thisdict.popitem()\n",
    "print(thisdict)"
   ]
  },
  {
   "cell_type": "markdown",
   "metadata": {
    "id": "zlDjqZsFIiCR"
   },
   "source": [
    "# Controles de Fluxo"
   ]
  },
  {
   "cell_type": "markdown",
   "metadata": {
    "id": "Ls7-B03NZlJJ"
   },
   "source": [
    "## Controle Condicional (```if```)"
   ]
  },
  {
   "cell_type": "markdown",
   "metadata": {
    "id": "wsVoSy_QWajK"
   },
   "source": [
    "Uma capacidade importantíssima de uma linguagem de programação, necessária em praticamente todo programa de computador, é a capacidade de tomar decisões baseadas em certas condições.\n",
    "\n",
    "A linguagem Python usa algumas palavras-chave para indicar execução condicional de código: ```if```, ```elif``` (else ```if```), ```else```. Basicamente, os condicionais nos permitem selecionar certos blocos de código que serão ou não executados dependendo de certas condições. Em alto nível, um condicional é como a sequência de passos abaixo:\n",
    "\n",
    "\n",
    "1. A condição é verdadeira?\n",
    "2. Se sim, execute um trecho de código.\n",
    "3. Caso contrário, execute outro trecho de código.\n",
    "\n",
    "Vejamos alguns exemplos."
   ]
  },
  {
   "cell_type": "code",
   "execution_count": null,
   "metadata": {
    "id": "Bs19fxjGJFUj"
   },
   "outputs": [],
   "source": [
    "condicao = False\n",
    "\n",
    "if condicao == True:\n",
    "  print('A condicao é verdadeira')\n",
    "else:\n",
    "  print('A condicao é falsa')"
   ]
  },
  {
   "cell_type": "markdown",
   "metadata": {
    "id": "Hr49ksHMYwPP"
   },
   "source": [
    "Condicionais também podem ser usados em cadeia (um após o outro), como mostrado abaixo:\n"
   ]
  },
  {
   "cell_type": "code",
   "execution_count": null,
   "metadata": {
    "id": "r7jvHajcYxZF"
   },
   "outputs": [],
   "source": [
    "condicao_1 = False\n",
    "condicao_2 = False\n",
    "\n",
    "if condicao_1:\n",
    "  print(\"A condicao_1 é verdadeira.\")\n",
    "elif condicao_2:\n",
    "  print(\"A condicao_2 é verdadeira.\")\n",
    "else:\n",
    "  print(\"As condições condicao_1 e condicao_2 são falsas.\")"
   ]
  },
  {
   "cell_type": "markdown",
   "metadata": {
    "id": "LgaaYXnDZGSk"
   },
   "source": [
    "É importante enfatizar isso: em Python, blocos de código são delimitados por sua indentação. E a indentação é parte integrante do programa, sendo essencial para seu correto funcionamento."
   ]
  },
  {
   "cell_type": "code",
   "execution_count": null,
   "metadata": {
    "colab": {
     "base_uri": "https://localhost:8080/",
     "height": 130
    },
    "id": "7dMM30gRZO-7",
    "outputId": "559e1ba3-2424-4595-d0cb-253ac4a5aae4"
   },
   "outputs": [
    {
     "ename": "IndentationError",
     "evalue": "ignored",
     "output_type": "error",
     "traceback": [
      "\u001b[0;36m  File \u001b[0;32m\"<ipython-input-7-a6e3661caf2e>\"\u001b[0;36m, line \u001b[0;32m5\u001b[0m\n\u001b[0;31m    print(\"Ambas sentenças são verdadeiras.\")\u001b[0m\n\u001b[0m        ^\u001b[0m\n\u001b[0;31mIndentationError\u001b[0m\u001b[0;31m:\u001b[0m expected an indented block\n"
     ]
    }
   ],
   "source": [
    "# Má indentação!\n",
    "if sentenca_1:\n",
    "  if sentenca_2:\n",
    "  # A linha abaixo não está indentada corretamente.\n",
    "  print(\"Ambas sentenças são verdadeiras.\")"
   ]
  },
  {
   "cell_type": "code",
   "execution_count": null,
   "metadata": {
    "colab": {
     "base_uri": "https://localhost:8080/"
    },
    "id": "BCS5HumdZHKP",
    "outputId": "ab6f60b4-f613-4699-bb2c-37bf5f3088d9"
   },
   "outputs": [
    {
     "name": "stdout",
     "output_type": "stream",
     "text": [
      "Impresso se condicao for verdadeiro.\n",
      "Ainda dentro do if. Note a indentação.\n"
     ]
    }
   ],
   "source": [
    "condicao = True\n",
    "\n",
    "if condicao:\n",
    "    print(\"Impresso se condicao for verdadeiro.\")\n",
    "\n",
    "    print(\"Ainda dentro do if. Note a indentação.\")"
   ]
  },
  {
   "cell_type": "markdown",
   "metadata": {
    "id": "zsZH0VxycdDx"
   },
   "source": [
    "## Controle de loop ```for```"
   ]
  },
  {
   "cell_type": "markdown",
   "metadata": {
    "id": "ApRpelghZefM"
   },
   "source": [
    "Existem vários tipos de laços (loops) em Python. O mais comum deles é o for, que é usado com objetos iteráveis tais como listas e intervalos. Os exemplos abaixo mostram o funcionamento básico do for."
   ]
  },
  {
   "cell_type": "code",
   "execution_count": null,
   "metadata": {
    "colab": {
     "base_uri": "https://localhost:8080/"
    },
    "id": "UdkHeDKUZdtN",
    "outputId": "ebf935c6-5271-48f0-e3ef-eb0a7a49651d"
   },
   "outputs": [
    {
     "name": "stdout",
     "output_type": "stream",
     "text": [
      "Números em uma lista: \n",
      "1\n",
      "1\n",
      "2\n",
      "3\n",
      "5\n",
      "8\n",
      "13\n"
     ]
    }
   ],
   "source": [
    "# Percorrendo uma lista de números.\n",
    "print(\"Números em uma lista: \")\n",
    "for numero in [1, 1, 2, 3, 5, 8, 13]:\n",
    "  print(numero)"
   ]
  },
  {
   "cell_type": "markdown",
   "metadata": {
    "id": "k4VHO61DbmqE"
   },
   "source": [
    "Em python, é muito simples percorrer uma lista de strings"
   ]
  },
  {
   "cell_type": "code",
   "execution_count": null,
   "metadata": {
    "id": "93d7_al3bnT1"
   },
   "outputs": [],
   "source": [
    "# Percorrendo uma lista de palavras.\n",
    "print(\"Palavras em uma lista:\")\n",
    "for palavra in [\"Ordem\", \"e\", \"Progresso\"]:\n",
    "  print(palavra)"
   ]
  },
  {
   "cell_type": "markdown",
   "metadata": {
    "id": "lxQ8WqQMbx3K"
   },
   "source": [
    "Percorrer um intervalo em python"
   ]
  },
  {
   "cell_type": "code",
   "execution_count": null,
   "metadata": {
    "id": "zYCIPmX5bxHm"
   },
   "outputs": [],
   "source": [
    "# Percorrendo um intervalo. Por padrão, intervalos começam em zero.\n",
    "for i in range(3):\n",
    "  print(i)"
   ]
  },
  {
   "cell_type": "markdown",
   "metadata": {
    "id": "eyTvDv9ocALm"
   },
   "source": [
    "Nos exemplos acima, ao percorrer os elementos de uma sequência, não usamos o índice do elemento (sua posição na sequência). Entretanto, há situações em que esta informação é útil. Python nos permite acessar tanto os índices dos elementos quanto os elementos propriamente ditos se usarmos a função ```enumerate```."
   ]
  },
  {
   "cell_type": "code",
   "execution_count": null,
   "metadata": {
    "id": "zSfUA1rwcDcK"
   },
   "outputs": [],
   "source": [
    "for indice, elemento in enumerate(range(-3,3)):\n",
    "  print(indice, elemento)"
   ]
  },
  {
   "cell_type": "markdown",
   "metadata": {
    "id": "aq0gnlEccJPc"
   },
   "source": [
    "Um exemplo interessante de uso de laços ```for``` é a busca por um elemento em uma lista:"
   ]
  },
  {
   "cell_type": "code",
   "execution_count": null,
   "metadata": {
    "colab": {
     "base_uri": "https://localhost:8080/"
    },
    "id": "AG13yNm2cJkH",
    "outputId": "143c0a04-892d-47ab-81c0-c9c4011156e6"
   },
   "outputs": [
    {
     "name": "stdout",
     "output_type": "stream",
     "text": [
      "Elemento está na lista!\n"
     ]
    }
   ],
   "source": [
    "elemento = 10\n",
    "estah_presente = False\n",
    "lista = [1, 2, 7, 10, 15, 20, 50]\n",
    "for item in lista:\n",
    "  if item == elemento:\n",
    "    estah_presente = True\n",
    "\n",
    "if estah_presente:\n",
    "  print(\"Elemento está na lista!\")\n",
    "else:\n",
    "  print(\"Elemento não está na lista!\")"
   ]
  },
  {
   "cell_type": "markdown",
   "metadata": {
    "id": "gwB2peZZcThK"
   },
   "source": [
    "Uma outra forma de pesquisar por um elemento em uma lista em Python é por meio do recurso ```in```:"
   ]
  },
  {
   "cell_type": "code",
   "execution_count": null,
   "metadata": {
    "id": "E5W8CNircTy3"
   },
   "outputs": [],
   "source": [
    "elemento = 10\n",
    "lista = [1, 2, 7, 10, 15]\n",
    "if elemento in lista:\n",
    "  print(\"Está na lista!\")\n",
    "else:\n",
    "  print(\"Não está na lista!\")"
   ]
  },
  {
   "cell_type": "markdown",
   "metadata": {
    "id": "zp8rWiuBdM6S"
   },
   "source": [
    "## Controle de loop ```while```"
   ]
  },
  {
   "cell_type": "markdown",
   "metadata": {
    "id": "QjPRfZ1TdVMN"
   },
   "source": [
    "Além dos laços ```for```, Python conta também com os laços ```while```, que executam enquanto uma dada condição for verdadeira:"
   ]
  },
  {
   "cell_type": "code",
   "execution_count": null,
   "metadata": {
    "id": "C_pvgGeZdQ5c"
   },
   "outputs": [],
   "source": [
    "i = 1\n",
    "while i < 5:\n",
    "  print(i)\n",
    "  i = i + 1"
   ]
  },
  {
   "cell_type": "markdown",
   "metadata": {
    "id": "OhSBRPKGdd58"
   },
   "source": [
    "Um exemplo útil de uso de laços ```while``` é o cálculo do fatorial de um número:"
   ]
  },
  {
   "cell_type": "code",
   "execution_count": null,
   "metadata": {
    "colab": {
     "base_uri": "https://localhost:8080/"
    },
    "id": "bUbPrDIBdoaw",
    "outputId": "aaa9f4a1-fb89-4c24-ec23-0f314f96152b"
   },
   "outputs": [
    {
     "name": "stdout",
     "output_type": "stream",
     "text": [
      "720\n"
     ]
    }
   ],
   "source": [
    "n = 6\n",
    "fatorial = 1\n",
    "while n > 1:\n",
    "  fatorial *= n\n",
    "  n -= 1\n",
    "print(fatorial)"
   ]
  },
  {
   "cell_type": "markdown",
   "metadata": {
    "id": "Y29ojE6dfU6h"
   },
   "source": [
    "# Funções"
   ]
  },
  {
   "cell_type": "markdown",
   "metadata": {
    "id": "0Yny45aBeCV4"
   },
   "source": [
    "Até aqui vimos como criar programas simples em Python. Em todos esses programas, salvamos os resultados das computações em variáveis ou então imprimimos os resultados desejados. Entretanto, existem situações nas quais uma dada porção do nosso programa será utilizada múltiplas vezes, em diferentes partes do programa, ou até mesmo por outros programas.<br>\n",
    "\n",
    "Imagine, por exemplo, que desejemos criar um programa para exibir a lista dos funcionários de uma empresa, ordenada por ordem alfabética, depois por idade, depois por salário. Nesse caso, temos uma tarefa (ordenar uma lista) que será executada várias vezes (primeiro para ordenar os funcionários por nome, depois por idade, e depois por salário). Em casos como esse, é conveniente que se tenha um procedimento que ordena uma lista de acordo com algum critério. Assim, esse procedimento pode ser aplicado várias vezes sem que tenhamos que repetir o mesmo código em várias partes do programa. Em outras palavras, precisamos de um procedimento que seja reusável em várias partes de nosso programa.<br>\n",
    "\n",
    "Uma das principais formas de se criar componentes reusáveis em Python (e em outras linguagens de programação também) são as chamadas funções. Uma função é basicamente um trecho de código (um procedimento, um algoritmo) que pode ser usado várias vezes.<br>\n",
    "\n",
    "Apesar de só estarmos falando sobre funções agora, nós já usamos funções várias vezes nas seções anteriores. Por exemplo, quando fazemos x = abs(y) estamos usando a função abs() da biblioteca padrão Python para calcular o valor absoluto de y e armazená-lo em x. Agora aprenderemos a criar e usar nossas próprias funções em Python."
   ]
  },
  {
   "cell_type": "markdown",
   "metadata": {
    "id": "PoMoMoVseTOj"
   },
   "source": [
    "Vamos criar uma função sem argumentos para iniciar a nossa explicação de funções"
   ]
  },
  {
   "cell_type": "code",
   "execution_count": null,
   "metadata": {
    "id": "EvLjaN5SfU6h"
   },
   "outputs": [],
   "source": [
    "def my_function():\n",
    "    print(\"Hello from a function\")"
   ]
  },
  {
   "cell_type": "code",
   "execution_count": null,
   "metadata": {
    "colab": {
     "base_uri": "https://localhost:8080/"
    },
    "id": "YzjPodATfU6j",
    "outputId": "acac8b9d-390e-4c69-ed45-4156b0515c7d"
   },
   "outputs": [
    {
     "name": "stdout",
     "output_type": "stream",
     "text": [
      "Hello from a function\n"
     ]
    }
   ],
   "source": [
    "my_function()"
   ]
  },
  {
   "cell_type": "markdown",
   "metadata": {
    "id": "kosGExdWecRt"
   },
   "source": [
    "Para criar uma função com parametros, basta que façamos o codigo abaixo:\n",
    "\n",
    "```python\n",
    "def nomedafuncao(parametro1, parametro2, ...):\n",
    "    corpodafuncao\n",
    "```"
   ]
  },
  {
   "cell_type": "code",
   "execution_count": null,
   "metadata": {
    "colab": {
     "base_uri": "https://localhost:8080/"
    },
    "id": "BMBi9HS-euEN",
    "outputId": "69ed090c-7bb1-4797-c923-1d11440ca991"
   },
   "outputs": [
    {
     "name": "stdout",
     "output_type": "stream",
     "text": [
      "Function add(10,20):  30\n"
     ]
    }
   ],
   "source": [
    "def add(a,b):\n",
    "  return a+b\n",
    "print('Function add(10,20): ',add(10,20))\n"
   ]
  },
  {
   "cell_type": "markdown",
   "metadata": {
    "id": "6AT2606kfU6l"
   },
   "source": [
    "Uma função lambda é uma pequena função não definida.\n",
    "\n",
    "Uma função lambda pode receber qualquer número de argumentos, mas só pode ter uma expressão.\n",
    "\n",
    "\n",
    "```lambda arguments : expression```"
   ]
  },
  {
   "cell_type": "code",
   "execution_count": null,
   "metadata": {
    "colab": {
     "base_uri": "https://localhost:8080/"
    },
    "id": "8F3DFwKXfU6l",
    "outputId": "2fd96c5c-2206-471a-e034-4eb0239b0157"
   },
   "outputs": [
    {
     "name": "stdout",
     "output_type": "stream",
     "text": [
      "15\n"
     ]
    }
   ],
   "source": [
    "x = lambda a : a + 10\n",
    "print(x(5))"
   ]
  },
  {
   "cell_type": "code",
   "execution_count": null,
   "metadata": {
    "colab": {
     "base_uri": "https://localhost:8080/"
    },
    "id": "qb_4HzJufU6n",
    "outputId": "496303f2-9bbb-401f-fbd0-4a9325c74e22"
   },
   "outputs": [
    {
     "name": "stdout",
     "output_type": "stream",
     "text": [
      "13\n"
     ]
    }
   ],
   "source": [
    "x = lambda a, b, c : a + b + c\n",
    "print(x(5, 6, 2))"
   ]
  },
  {
   "cell_type": "code",
   "execution_count": null,
   "metadata": {
    "colab": {
     "base_uri": "https://localhost:8080/"
    },
    "id": "3JOm1TRNfU6q",
    "outputId": "bfe011bd-6d8d-4bff-d88d-0884b581113e"
   },
   "outputs": [
    {
     "name": "stdout",
     "output_type": "stream",
     "text": [
      "2021-09-08 20:37:13.197094\n"
     ]
    }
   ],
   "source": [
    "import datetime\n",
    "\n",
    "x = datetime.datetime.now()\n",
    "print(x)"
   ]
  }
 ],
 "metadata": {
  "accelerator": "GPU",
  "colab": {
   "provenance": [],
   "toc_visible": true
  },
  "kernelspec": {
   "display_name": "Python 3 (ipykernel)",
   "language": "python",
   "name": "python3"
  },
  "language_info": {
   "codemirror_mode": {
    "name": "ipython",
    "version": 3
   },
   "file_extension": ".py",
   "mimetype": "text/x-python",
   "name": "python",
   "nbconvert_exporter": "python",
   "pygments_lexer": "ipython3",
   "version": "3.11.11"
  }
 },
 "nbformat": 4,
 "nbformat_minor": 4
}
